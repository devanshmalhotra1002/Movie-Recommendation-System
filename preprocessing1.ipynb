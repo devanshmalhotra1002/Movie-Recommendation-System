{
  "cells": [
    {
      "cell_type": "code",
      "execution_count": null,
      "metadata": {
        "id": "K_ngF8zji5uy"
      },
      "outputs": [],
      "source": [
        "import pandas as pd \n",
        "import numpy as np\n",
        "import matplotlib.pyplot as plot_keywords"
      ]
    },
    {
      "cell_type": "markdown",
      "metadata": {
        "id": "vpP5xCU1i5u0"
      },
      "source": [
        "# Getting Data till 2016"
      ]
    },
    {
      "cell_type": "code",
      "execution_count": null,
      "metadata": {
        "id": "WJ0lAvg8i5u2"
      },
      "outputs": [],
      "source": [
        "data = pd.read_csv('/Users/devanshmalhotra/Desktop/movie_recommendation_system/movie_metadata.csv')"
      ]
    },
    {
      "cell_type": "code",
      "execution_count": null,
      "metadata": {
        "id": "iG8xK3jqi5u2",
        "outputId": "1ae9d0c2-ea59-404d-e6ca-bd7e09bda74a"
      },
      "outputs": [
        {
          "data": {
            "text/html": [
              "<div>\n",
              "<style scoped>\n",
              "    .dataframe tbody tr th:only-of-type {\n",
              "        vertical-align: middle;\n",
              "    }\n",
              "\n",
              "    .dataframe tbody tr th {\n",
              "        vertical-align: top;\n",
              "    }\n",
              "\n",
              "    .dataframe thead th {\n",
              "        text-align: right;\n",
              "    }\n",
              "</style>\n",
              "<table border=\"1\" class=\"dataframe\">\n",
              "  <thead>\n",
              "    <tr style=\"text-align: right;\">\n",
              "      <th></th>\n",
              "      <th>color</th>\n",
              "      <th>director_name</th>\n",
              "      <th>num_critic_for_reviews</th>\n",
              "      <th>duration</th>\n",
              "      <th>director_facebook_likes</th>\n",
              "      <th>actor_3_facebook_likes</th>\n",
              "      <th>actor_2_name</th>\n",
              "      <th>actor_1_facebook_likes</th>\n",
              "      <th>gross</th>\n",
              "      <th>genres</th>\n",
              "      <th>actor_1_name</th>\n",
              "      <th>movie_title</th>\n",
              "      <th>num_voted_users</th>\n",
              "      <th>cast_total_facebook_likes</th>\n",
              "      <th>actor_3_name</th>\n",
              "      <th>facenumber_in_poster</th>\n",
              "      <th>plot_keywords</th>\n",
              "      <th>movie_imdb_link</th>\n",
              "      <th>num_user_for_reviews</th>\n",
              "      <th>language</th>\n",
              "      <th>country</th>\n",
              "      <th>content_rating</th>\n",
              "      <th>budget</th>\n",
              "      <th>title_year</th>\n",
              "      <th>actor_2_facebook_likes</th>\n",
              "      <th>imdb_score</th>\n",
              "      <th>aspect_ratio</th>\n",
              "      <th>movie_facebook_likes</th>\n",
              "    </tr>\n",
              "  </thead>\n",
              "  <tbody>\n",
              "    <tr>\n",
              "      <th>0</th>\n",
              "      <td>Color</td>\n",
              "      <td>James Cameron</td>\n",
              "      <td>723.0</td>\n",
              "      <td>178.0</td>\n",
              "      <td>0.0</td>\n",
              "      <td>855.0</td>\n",
              "      <td>Joel David Moore</td>\n",
              "      <td>1000.0</td>\n",
              "      <td>760505847.0</td>\n",
              "      <td>Action|Adventure|Fantasy|Sci-Fi</td>\n",
              "      <td>CCH Pounder</td>\n",
              "      <td>Avatar</td>\n",
              "      <td>886204</td>\n",
              "      <td>4834</td>\n",
              "      <td>Wes Studi</td>\n",
              "      <td>0.0</td>\n",
              "      <td>avatar|future|marine|native|paraplegic</td>\n",
              "      <td>http://www.imdb.com/title/tt0499549/?ref_=fn_t...</td>\n",
              "      <td>3054.0</td>\n",
              "      <td>English</td>\n",
              "      <td>USA</td>\n",
              "      <td>PG-13</td>\n",
              "      <td>237000000.0</td>\n",
              "      <td>2009.0</td>\n",
              "      <td>936.0</td>\n",
              "      <td>7.9</td>\n",
              "      <td>1.78</td>\n",
              "      <td>33000</td>\n",
              "    </tr>\n",
              "    <tr>\n",
              "      <th>1</th>\n",
              "      <td>Color</td>\n",
              "      <td>Gore Verbinski</td>\n",
              "      <td>302.0</td>\n",
              "      <td>169.0</td>\n",
              "      <td>563.0</td>\n",
              "      <td>1000.0</td>\n",
              "      <td>Orlando Bloom</td>\n",
              "      <td>40000.0</td>\n",
              "      <td>309404152.0</td>\n",
              "      <td>Action|Adventure|Fantasy</td>\n",
              "      <td>Johnny Depp</td>\n",
              "      <td>Pirates of the Caribbean: At World's End</td>\n",
              "      <td>471220</td>\n",
              "      <td>48350</td>\n",
              "      <td>Jack Davenport</td>\n",
              "      <td>0.0</td>\n",
              "      <td>goddess|marriage ceremony|marriage proposal|pi...</td>\n",
              "      <td>http://www.imdb.com/title/tt0449088/?ref_=fn_t...</td>\n",
              "      <td>1238.0</td>\n",
              "      <td>English</td>\n",
              "      <td>USA</td>\n",
              "      <td>PG-13</td>\n",
              "      <td>300000000.0</td>\n",
              "      <td>2007.0</td>\n",
              "      <td>5000.0</td>\n",
              "      <td>7.1</td>\n",
              "      <td>2.35</td>\n",
              "      <td>0</td>\n",
              "    </tr>\n",
              "    <tr>\n",
              "      <th>2</th>\n",
              "      <td>Color</td>\n",
              "      <td>Sam Mendes</td>\n",
              "      <td>602.0</td>\n",
              "      <td>148.0</td>\n",
              "      <td>0.0</td>\n",
              "      <td>161.0</td>\n",
              "      <td>Rory Kinnear</td>\n",
              "      <td>11000.0</td>\n",
              "      <td>200074175.0</td>\n",
              "      <td>Action|Adventure|Thriller</td>\n",
              "      <td>Christoph Waltz</td>\n",
              "      <td>Spectre</td>\n",
              "      <td>275868</td>\n",
              "      <td>11700</td>\n",
              "      <td>Stephanie Sigman</td>\n",
              "      <td>1.0</td>\n",
              "      <td>bomb|espionage|sequel|spy|terrorist</td>\n",
              "      <td>http://www.imdb.com/title/tt2379713/?ref_=fn_t...</td>\n",
              "      <td>994.0</td>\n",
              "      <td>English</td>\n",
              "      <td>UK</td>\n",
              "      <td>PG-13</td>\n",
              "      <td>245000000.0</td>\n",
              "      <td>2015.0</td>\n",
              "      <td>393.0</td>\n",
              "      <td>6.8</td>\n",
              "      <td>2.35</td>\n",
              "      <td>85000</td>\n",
              "    </tr>\n",
              "    <tr>\n",
              "      <th>3</th>\n",
              "      <td>Color</td>\n",
              "      <td>Christopher Nolan</td>\n",
              "      <td>813.0</td>\n",
              "      <td>164.0</td>\n",
              "      <td>22000.0</td>\n",
              "      <td>23000.0</td>\n",
              "      <td>Christian Bale</td>\n",
              "      <td>27000.0</td>\n",
              "      <td>448130642.0</td>\n",
              "      <td>Action|Thriller</td>\n",
              "      <td>Tom Hardy</td>\n",
              "      <td>The Dark Knight Rises</td>\n",
              "      <td>1144337</td>\n",
              "      <td>106759</td>\n",
              "      <td>Joseph Gordon-Levitt</td>\n",
              "      <td>0.0</td>\n",
              "      <td>deception|imprisonment|lawlessness|police offi...</td>\n",
              "      <td>http://www.imdb.com/title/tt1345836/?ref_=fn_t...</td>\n",
              "      <td>2701.0</td>\n",
              "      <td>English</td>\n",
              "      <td>USA</td>\n",
              "      <td>PG-13</td>\n",
              "      <td>250000000.0</td>\n",
              "      <td>2012.0</td>\n",
              "      <td>23000.0</td>\n",
              "      <td>8.5</td>\n",
              "      <td>2.35</td>\n",
              "      <td>164000</td>\n",
              "    </tr>\n",
              "    <tr>\n",
              "      <th>4</th>\n",
              "      <td>NaN</td>\n",
              "      <td>Doug Walker</td>\n",
              "      <td>NaN</td>\n",
              "      <td>NaN</td>\n",
              "      <td>131.0</td>\n",
              "      <td>NaN</td>\n",
              "      <td>Rob Walker</td>\n",
              "      <td>131.0</td>\n",
              "      <td>NaN</td>\n",
              "      <td>Documentary</td>\n",
              "      <td>Doug Walker</td>\n",
              "      <td>Star Wars: Episode VII - The Force Awakens    ...</td>\n",
              "      <td>8</td>\n",
              "      <td>143</td>\n",
              "      <td>NaN</td>\n",
              "      <td>0.0</td>\n",
              "      <td>NaN</td>\n",
              "      <td>http://www.imdb.com/title/tt5289954/?ref_=fn_t...</td>\n",
              "      <td>NaN</td>\n",
              "      <td>NaN</td>\n",
              "      <td>NaN</td>\n",
              "      <td>NaN</td>\n",
              "      <td>NaN</td>\n",
              "      <td>NaN</td>\n",
              "      <td>12.0</td>\n",
              "      <td>7.1</td>\n",
              "      <td>NaN</td>\n",
              "      <td>0</td>\n",
              "    </tr>\n",
              "  </tbody>\n",
              "</table>\n",
              "</div>"
            ],
            "text/plain": [
              "   color      director_name  num_critic_for_reviews  duration  \\\n",
              "0  Color      James Cameron                   723.0     178.0   \n",
              "1  Color     Gore Verbinski                   302.0     169.0   \n",
              "2  Color         Sam Mendes                   602.0     148.0   \n",
              "3  Color  Christopher Nolan                   813.0     164.0   \n",
              "4    NaN        Doug Walker                     NaN       NaN   \n",
              "\n",
              "   director_facebook_likes  actor_3_facebook_likes      actor_2_name  \\\n",
              "0                      0.0                   855.0  Joel David Moore   \n",
              "1                    563.0                  1000.0     Orlando Bloom   \n",
              "2                      0.0                   161.0      Rory Kinnear   \n",
              "3                  22000.0                 23000.0    Christian Bale   \n",
              "4                    131.0                     NaN        Rob Walker   \n",
              "\n",
              "   actor_1_facebook_likes        gross                           genres  \\\n",
              "0                  1000.0  760505847.0  Action|Adventure|Fantasy|Sci-Fi   \n",
              "1                 40000.0  309404152.0         Action|Adventure|Fantasy   \n",
              "2                 11000.0  200074175.0        Action|Adventure|Thriller   \n",
              "3                 27000.0  448130642.0                  Action|Thriller   \n",
              "4                   131.0          NaN                      Documentary   \n",
              "\n",
              "      actor_1_name                                        movie_title  \\\n",
              "0      CCH Pounder                                            Avatar    \n",
              "1      Johnny Depp          Pirates of the Caribbean: At World's End    \n",
              "2  Christoph Waltz                                           Spectre    \n",
              "3        Tom Hardy                             The Dark Knight Rises    \n",
              "4      Doug Walker  Star Wars: Episode VII - The Force Awakens    ...   \n",
              "\n",
              "   num_voted_users  cast_total_facebook_likes          actor_3_name  \\\n",
              "0           886204                       4834             Wes Studi   \n",
              "1           471220                      48350        Jack Davenport   \n",
              "2           275868                      11700      Stephanie Sigman   \n",
              "3          1144337                     106759  Joseph Gordon-Levitt   \n",
              "4                8                        143                   NaN   \n",
              "\n",
              "   facenumber_in_poster                                      plot_keywords  \\\n",
              "0                   0.0             avatar|future|marine|native|paraplegic   \n",
              "1                   0.0  goddess|marriage ceremony|marriage proposal|pi...   \n",
              "2                   1.0                bomb|espionage|sequel|spy|terrorist   \n",
              "3                   0.0  deception|imprisonment|lawlessness|police offi...   \n",
              "4                   0.0                                                NaN   \n",
              "\n",
              "                                     movie_imdb_link  num_user_for_reviews  \\\n",
              "0  http://www.imdb.com/title/tt0499549/?ref_=fn_t...                3054.0   \n",
              "1  http://www.imdb.com/title/tt0449088/?ref_=fn_t...                1238.0   \n",
              "2  http://www.imdb.com/title/tt2379713/?ref_=fn_t...                 994.0   \n",
              "3  http://www.imdb.com/title/tt1345836/?ref_=fn_t...                2701.0   \n",
              "4  http://www.imdb.com/title/tt5289954/?ref_=fn_t...                   NaN   \n",
              "\n",
              "  language country content_rating       budget  title_year  \\\n",
              "0  English     USA          PG-13  237000000.0      2009.0   \n",
              "1  English     USA          PG-13  300000000.0      2007.0   \n",
              "2  English      UK          PG-13  245000000.0      2015.0   \n",
              "3  English     USA          PG-13  250000000.0      2012.0   \n",
              "4      NaN     NaN            NaN          NaN         NaN   \n",
              "\n",
              "   actor_2_facebook_likes  imdb_score  aspect_ratio  movie_facebook_likes  \n",
              "0                   936.0         7.9          1.78                 33000  \n",
              "1                  5000.0         7.1          2.35                     0  \n",
              "2                   393.0         6.8          2.35                 85000  \n",
              "3                 23000.0         8.5          2.35                164000  \n",
              "4                    12.0         7.1           NaN                     0  "
            ]
          },
          "execution_count": 3,
          "metadata": {},
          "output_type": "execute_result"
        }
      ],
      "source": [
        "pd.set_option('display.max_columns', None)\n",
        "data.head()"
      ]
    },
    {
      "cell_type": "code",
      "execution_count": null,
      "metadata": {
        "id": "EvZ24ZIfi5u4",
        "outputId": "31966833-06e4-4e4b-b1da-abc092a161c6"
      },
      "outputs": [
        {
          "data": {
            "text/plain": [
              "(5043, 28)"
            ]
          },
          "execution_count": 4,
          "metadata": {},
          "output_type": "execute_result"
        }
      ],
      "source": [
        "data.shape"
      ]
    },
    {
      "cell_type": "code",
      "execution_count": null,
      "metadata": {
        "id": "1REajt-7i5u4",
        "outputId": "15fa0c51-5ce8-4d01-9015-d9a113f564ce"
      },
      "outputs": [
        {
          "data": {
            "text/plain": [
              "Index(['color', 'director_name', 'num_critic_for_reviews', 'duration',\n",
              "       'director_facebook_likes', 'actor_3_facebook_likes', 'actor_2_name',\n",
              "       'actor_1_facebook_likes', 'gross', 'genres', 'actor_1_name',\n",
              "       'movie_title', 'num_voted_users', 'cast_total_facebook_likes',\n",
              "       'actor_3_name', 'facenumber_in_poster', 'plot_keywords',\n",
              "       'movie_imdb_link', 'num_user_for_reviews', 'language', 'country',\n",
              "       'content_rating', 'budget', 'title_year', 'actor_2_facebook_likes',\n",
              "       'imdb_score', 'aspect_ratio', 'movie_facebook_likes'],\n",
              "      dtype='object')"
            ]
          },
          "execution_count": 5,
          "metadata": {},
          "output_type": "execute_result"
        }
      ],
      "source": [
        "data.columns"
      ]
    },
    {
      "cell_type": "code",
      "execution_count": null,
      "metadata": {
        "id": "mo-lqF80i5u5",
        "outputId": "fd0eca45-a78b-4111-c8ca-4299a9e13cc6"
      },
      "outputs": [
        {
          "data": {
            "text/plain": [
              "2016.0"
            ]
          },
          "execution_count": 6,
          "metadata": {},
          "output_type": "execute_result"
        }
      ],
      "source": [
        "data['title_year'][10]"
      ]
    },
    {
      "cell_type": "code",
      "execution_count": null,
      "metadata": {
        "id": "Vy-9WzEPi5u6",
        "outputId": "afc0843f-2de9-4ef1-d428-a111689365b6"
      },
      "outputs": [
        {
          "data": {
            "text/plain": [
              "<AxesSubplot:>"
            ]
          },
          "execution_count": 7,
          "metadata": {},
          "output_type": "execute_result"
        },
        {
          "data": {
            "image/png": "[encoded data removed]",
            "text/plain": [
              "<Figure size 1440x720 with 1 Axes>"
            ]
          },
          "metadata": {
            "needs_background": "light"
          },
          "output_type": "display_data"
        }
      ],
      "source": [
        "# Data till 2016 only\n",
        "data.title_year.value_counts(dropna=False).sort_index().plot(kind='bar',figsize=(20,10))"
      ]
    },
    {
      "cell_type": "code",
      "execution_count": null,
      "metadata": {
        "id": "pGCqQ4gBi5u7"
      },
      "outputs": [],
      "source": [
        "# We only have data till 2016"
      ]
    },
    {
      "cell_type": "code",
      "execution_count": null,
      "metadata": {
        "id": "ZRVvG4cZi5u7"
      },
      "outputs": [],
      "source": [
        "data = data.loc[:,['movie_title','director_name','actor_1_name','actor_2_name','actor_3_name','genres']]"
      ]
    },
    {
      "cell_type": "code",
      "execution_count": null,
      "metadata": {
        "id": "tBRmQKtBi5u9",
        "outputId": "3e4d7ca2-1c33-4937-fb90-91edc8c1ac14"
      },
      "outputs": [
        {
          "data": {
            "text/html": [
              "<div>\n",
              "<style scoped>\n",
              "    .dataframe tbody tr th:only-of-type {\n",
              "        vertical-align: middle;\n",
              "    }\n",
              "\n",
              "    .dataframe tbody tr th {\n",
              "        vertical-align: top;\n",
              "    }\n",
              "\n",
              "    .dataframe thead th {\n",
              "        text-align: right;\n",
              "    }\n",
              "</style>\n",
              "<table border=\"1\" class=\"dataframe\">\n",
              "  <thead>\n",
              "    <tr style=\"text-align: right;\">\n",
              "      <th></th>\n",
              "      <th>movie_title</th>\n",
              "      <th>director_name</th>\n",
              "      <th>actor_1_name</th>\n",
              "      <th>actor_2_name</th>\n",
              "      <th>actor_3_name</th>\n",
              "      <th>genres</th>\n",
              "    </tr>\n",
              "  </thead>\n",
              "  <tbody>\n",
              "    <tr>\n",
              "      <th>0</th>\n",
              "      <td>Avatar</td>\n",
              "      <td>James Cameron</td>\n",
              "      <td>CCH Pounder</td>\n",
              "      <td>Joel David Moore</td>\n",
              "      <td>Wes Studi</td>\n",
              "      <td>Action|Adventure|Fantasy|Sci-Fi</td>\n",
              "    </tr>\n",
              "    <tr>\n",
              "      <th>1</th>\n",
              "      <td>Pirates of the Caribbean: At World's End</td>\n",
              "      <td>Gore Verbinski</td>\n",
              "      <td>Johnny Depp</td>\n",
              "      <td>Orlando Bloom</td>\n",
              "      <td>Jack Davenport</td>\n",
              "      <td>Action|Adventure|Fantasy</td>\n",
              "    </tr>\n",
              "    <tr>\n",
              "      <th>2</th>\n",
              "      <td>Spectre</td>\n",
              "      <td>Sam Mendes</td>\n",
              "      <td>Christoph Waltz</td>\n",
              "      <td>Rory Kinnear</td>\n",
              "      <td>Stephanie Sigman</td>\n",
              "      <td>Action|Adventure|Thriller</td>\n",
              "    </tr>\n",
              "    <tr>\n",
              "      <th>3</th>\n",
              "      <td>The Dark Knight Rises</td>\n",
              "      <td>Christopher Nolan</td>\n",
              "      <td>Tom Hardy</td>\n",
              "      <td>Christian Bale</td>\n",
              "      <td>Joseph Gordon-Levitt</td>\n",
              "      <td>Action|Thriller</td>\n",
              "    </tr>\n",
              "    <tr>\n",
              "      <th>4</th>\n",
              "      <td>Star Wars: Episode VII - The Force Awakens    ...</td>\n",
              "      <td>Doug Walker</td>\n",
              "      <td>Doug Walker</td>\n",
              "      <td>Rob Walker</td>\n",
              "      <td>NaN</td>\n",
              "      <td>Documentary</td>\n",
              "    </tr>\n",
              "    <tr>\n",
              "      <th>5</th>\n",
              "      <td>John Carter</td>\n",
              "      <td>Andrew Stanton</td>\n",
              "      <td>Daryl Sabara</td>\n",
              "      <td>Samantha Morton</td>\n",
              "      <td>Polly Walker</td>\n",
              "      <td>Action|Adventure|Sci-Fi</td>\n",
              "    </tr>\n",
              "    <tr>\n",
              "      <th>6</th>\n",
              "      <td>Spider-Man 3</td>\n",
              "      <td>Sam Raimi</td>\n",
              "      <td>J.K. Simmons</td>\n",
              "      <td>James Franco</td>\n",
              "      <td>Kirsten Dunst</td>\n",
              "      <td>Action|Adventure|Romance</td>\n",
              "    </tr>\n",
              "    <tr>\n",
              "      <th>7</th>\n",
              "      <td>Tangled</td>\n",
              "      <td>Nathan Greno</td>\n",
              "      <td>Brad Garrett</td>\n",
              "      <td>Donna Murphy</td>\n",
              "      <td>M.C. Gainey</td>\n",
              "      <td>Adventure|Animation|Comedy|Family|Fantasy|Musi...</td>\n",
              "    </tr>\n",
              "    <tr>\n",
              "      <th>8</th>\n",
              "      <td>Avengers: Age of Ultron</td>\n",
              "      <td>Joss Whedon</td>\n",
              "      <td>Chris Hemsworth</td>\n",
              "      <td>Robert Downey Jr.</td>\n",
              "      <td>Scarlett Johansson</td>\n",
              "      <td>Action|Adventure|Sci-Fi</td>\n",
              "    </tr>\n",
              "    <tr>\n",
              "      <th>9</th>\n",
              "      <td>Harry Potter and the Half-Blood Prince</td>\n",
              "      <td>David Yates</td>\n",
              "      <td>Alan Rickman</td>\n",
              "      <td>Daniel Radcliffe</td>\n",
              "      <td>Rupert Grint</td>\n",
              "      <td>Adventure|Family|Fantasy|Mystery</td>\n",
              "    </tr>\n",
              "  </tbody>\n",
              "</table>\n",
              "</div>"
            ],
            "text/plain": [
              "                                         movie_title      director_name  \\\n",
              "0                                            Avatar       James Cameron   \n",
              "1          Pirates of the Caribbean: At World's End      Gore Verbinski   \n",
              "2                                           Spectre          Sam Mendes   \n",
              "3                             The Dark Knight Rises   Christopher Nolan   \n",
              "4  Star Wars: Episode VII - The Force Awakens    ...        Doug Walker   \n",
              "5                                       John Carter      Andrew Stanton   \n",
              "6                                      Spider-Man 3           Sam Raimi   \n",
              "7                                           Tangled        Nathan Greno   \n",
              "8                           Avengers: Age of Ultron         Joss Whedon   \n",
              "9            Harry Potter and the Half-Blood Prince         David Yates   \n",
              "\n",
              "      actor_1_name       actor_2_name          actor_3_name  \\\n",
              "0      CCH Pounder   Joel David Moore             Wes Studi   \n",
              "1      Johnny Depp      Orlando Bloom        Jack Davenport   \n",
              "2  Christoph Waltz       Rory Kinnear      Stephanie Sigman   \n",
              "3        Tom Hardy     Christian Bale  Joseph Gordon-Levitt   \n",
              "4      Doug Walker         Rob Walker                   NaN   \n",
              "5     Daryl Sabara    Samantha Morton          Polly Walker   \n",
              "6     J.K. Simmons       James Franco         Kirsten Dunst   \n",
              "7     Brad Garrett       Donna Murphy           M.C. Gainey   \n",
              "8  Chris Hemsworth  Robert Downey Jr.    Scarlett Johansson   \n",
              "9     Alan Rickman   Daniel Radcliffe          Rupert Grint   \n",
              "\n",
              "                                              genres  \n",
              "0                    Action|Adventure|Fantasy|Sci-Fi  \n",
              "1                           Action|Adventure|Fantasy  \n",
              "2                          Action|Adventure|Thriller  \n",
              "3                                    Action|Thriller  \n",
              "4                                        Documentary  \n",
              "5                            Action|Adventure|Sci-Fi  \n",
              "6                           Action|Adventure|Romance  \n",
              "7  Adventure|Animation|Comedy|Family|Fantasy|Musi...  \n",
              "8                            Action|Adventure|Sci-Fi  \n",
              "9                   Adventure|Family|Fantasy|Mystery  "
            ]
          },
          "execution_count": 10,
          "metadata": {},
          "output_type": "execute_result"
        }
      ],
      "source": [
        "data.head(10)"
      ]
    },
    {
      "cell_type": "code",
      "execution_count": null,
      "metadata": {
        "id": "MC1dlIx4i5u9"
      },
      "outputs": [],
      "source": [
        "data['director_name'] = data['director_name'].replace(np.nan,'Unknown')\n",
        "data['actor_1_name'] = data['actor_1_name'].replace(np.nan,'Unknown')\n",
        "data['actor_2_name'] = data['actor_2_name'].replace(np.nan,'Unknown')\n",
        "data['actor_3_name'] = data['actor_3_name'].replace(np.nan,'Unknown')"
      ]
    },
    {
      "cell_type": "code",
      "execution_count": null,
      "metadata": {
        "id": "ISQbFgWKi5u9",
        "outputId": "be8edc31-f26e-4025-937b-08a1297570db"
      },
      "outputs": [
        {
          "data": {
            "text/html": [
              "<div>\n",
              "<style scoped>\n",
              "    .dataframe tbody tr th:only-of-type {\n",
              "        vertical-align: middle;\n",
              "    }\n",
              "\n",
              "    .dataframe tbody tr th {\n",
              "        vertical-align: top;\n",
              "    }\n",
              "\n",
              "    .dataframe thead th {\n",
              "        text-align: right;\n",
              "    }\n",
              "</style>\n",
              "<table border=\"1\" class=\"dataframe\">\n",
              "  <thead>\n",
              "    <tr style=\"text-align: right;\">\n",
              "      <th></th>\n",
              "      <th>movie_title</th>\n",
              "      <th>director_name</th>\n",
              "      <th>actor_1_name</th>\n",
              "      <th>actor_2_name</th>\n",
              "      <th>actor_3_name</th>\n",
              "      <th>genres</th>\n",
              "    </tr>\n",
              "  </thead>\n",
              "  <tbody>\n",
              "    <tr>\n",
              "      <th>0</th>\n",
              "      <td>Avatar</td>\n",
              "      <td>James Cameron</td>\n",
              "      <td>CCH Pounder</td>\n",
              "      <td>Joel David Moore</td>\n",
              "      <td>Wes Studi</td>\n",
              "      <td>Action|Adventure|Fantasy|Sci-Fi</td>\n",
              "    </tr>\n",
              "    <tr>\n",
              "      <th>1</th>\n",
              "      <td>Pirates of the Caribbean: At World's End</td>\n",
              "      <td>Gore Verbinski</td>\n",
              "      <td>Johnny Depp</td>\n",
              "      <td>Orlando Bloom</td>\n",
              "      <td>Jack Davenport</td>\n",
              "      <td>Action|Adventure|Fantasy</td>\n",
              "    </tr>\n",
              "    <tr>\n",
              "      <th>2</th>\n",
              "      <td>Spectre</td>\n",
              "      <td>Sam Mendes</td>\n",
              "      <td>Christoph Waltz</td>\n",
              "      <td>Rory Kinnear</td>\n",
              "      <td>Stephanie Sigman</td>\n",
              "      <td>Action|Adventure|Thriller</td>\n",
              "    </tr>\n",
              "    <tr>\n",
              "      <th>3</th>\n",
              "      <td>The Dark Knight Rises</td>\n",
              "      <td>Christopher Nolan</td>\n",
              "      <td>Tom Hardy</td>\n",
              "      <td>Christian Bale</td>\n",
              "      <td>Joseph Gordon-Levitt</td>\n",
              "      <td>Action|Thriller</td>\n",
              "    </tr>\n",
              "    <tr>\n",
              "      <th>4</th>\n",
              "      <td>Star Wars: Episode VII - The Force Awakens    ...</td>\n",
              "      <td>Doug Walker</td>\n",
              "      <td>Doug Walker</td>\n",
              "      <td>Rob Walker</td>\n",
              "      <td>Unknown</td>\n",
              "      <td>Documentary</td>\n",
              "    </tr>\n",
              "    <tr>\n",
              "      <th>5</th>\n",
              "      <td>John Carter</td>\n",
              "      <td>Andrew Stanton</td>\n",
              "      <td>Daryl Sabara</td>\n",
              "      <td>Samantha Morton</td>\n",
              "      <td>Polly Walker</td>\n",
              "      <td>Action|Adventure|Sci-Fi</td>\n",
              "    </tr>\n",
              "    <tr>\n",
              "      <th>6</th>\n",
              "      <td>Spider-Man 3</td>\n",
              "      <td>Sam Raimi</td>\n",
              "      <td>J.K. Simmons</td>\n",
              "      <td>James Franco</td>\n",
              "      <td>Kirsten Dunst</td>\n",
              "      <td>Action|Adventure|Romance</td>\n",
              "    </tr>\n",
              "    <tr>\n",
              "      <th>7</th>\n",
              "      <td>Tangled</td>\n",
              "      <td>Nathan Greno</td>\n",
              "      <td>Brad Garrett</td>\n",
              "      <td>Donna Murphy</td>\n",
              "      <td>M.C. Gainey</td>\n",
              "      <td>Adventure|Animation|Comedy|Family|Fantasy|Musi...</td>\n",
              "    </tr>\n",
              "    <tr>\n",
              "      <th>8</th>\n",
              "      <td>Avengers: Age of Ultron</td>\n",
              "      <td>Joss Whedon</td>\n",
              "      <td>Chris Hemsworth</td>\n",
              "      <td>Robert Downey Jr.</td>\n",
              "      <td>Scarlett Johansson</td>\n",
              "      <td>Action|Adventure|Sci-Fi</td>\n",
              "    </tr>\n",
              "    <tr>\n",
              "      <th>9</th>\n",
              "      <td>Harry Potter and the Half-Blood Prince</td>\n",
              "      <td>David Yates</td>\n",
              "      <td>Alan Rickman</td>\n",
              "      <td>Daniel Radcliffe</td>\n",
              "      <td>Rupert Grint</td>\n",
              "      <td>Adventure|Family|Fantasy|Mystery</td>\n",
              "    </tr>\n",
              "  </tbody>\n",
              "</table>\n",
              "</div>"
            ],
            "text/plain": [
              "                                         movie_title      director_name  \\\n",
              "0                                            Avatar       James Cameron   \n",
              "1          Pirates of the Caribbean: At World's End      Gore Verbinski   \n",
              "2                                           Spectre          Sam Mendes   \n",
              "3                             The Dark Knight Rises   Christopher Nolan   \n",
              "4  Star Wars: Episode VII - The Force Awakens    ...        Doug Walker   \n",
              "5                                       John Carter      Andrew Stanton   \n",
              "6                                      Spider-Man 3           Sam Raimi   \n",
              "7                                           Tangled        Nathan Greno   \n",
              "8                           Avengers: Age of Ultron         Joss Whedon   \n",
              "9            Harry Potter and the Half-Blood Prince         David Yates   \n",
              "\n",
              "      actor_1_name       actor_2_name          actor_3_name  \\\n",
              "0      CCH Pounder   Joel David Moore             Wes Studi   \n",
              "1      Johnny Depp      Orlando Bloom        Jack Davenport   \n",
              "2  Christoph Waltz       Rory Kinnear      Stephanie Sigman   \n",
              "3        Tom Hardy     Christian Bale  Joseph Gordon-Levitt   \n",
              "4      Doug Walker         Rob Walker               Unknown   \n",
              "5     Daryl Sabara    Samantha Morton          Polly Walker   \n",
              "6     J.K. Simmons       James Franco         Kirsten Dunst   \n",
              "7     Brad Garrett       Donna Murphy           M.C. Gainey   \n",
              "8  Chris Hemsworth  Robert Downey Jr.    Scarlett Johansson   \n",
              "9     Alan Rickman   Daniel Radcliffe          Rupert Grint   \n",
              "\n",
              "                                              genres  \n",
              "0                    Action|Adventure|Fantasy|Sci-Fi  \n",
              "1                           Action|Adventure|Fantasy  \n",
              "2                          Action|Adventure|Thriller  \n",
              "3                                    Action|Thriller  \n",
              "4                                        Documentary  \n",
              "5                            Action|Adventure|Sci-Fi  \n",
              "6                           Action|Adventure|Romance  \n",
              "7  Adventure|Animation|Comedy|Family|Fantasy|Musi...  \n",
              "8                            Action|Adventure|Sci-Fi  \n",
              "9                   Adventure|Family|Fantasy|Mystery  "
            ]
          },
          "execution_count": 12,
          "metadata": {},
          "output_type": "execute_result"
        }
      ],
      "source": [
        "data.head(10)"
      ]
    },
    {
      "cell_type": "code",
      "execution_count": null,
      "metadata": {
        "id": "o_QzP5fPi5u-",
        "outputId": "3ac7a557-c321-4235-d3a5-f09b45b6b0f2"
      },
      "outputs": [
        {
          "name": "stderr",
          "output_type": "stream",
          "text": [
            "<ipython-input-13-c25fa2212a30>:1: FutureWarning: The default value of regex will change from True to False in a future version. In addition, single character regular expressions will*not* be treated as literal strings when regex=True.\n",
            "  data['genres'] = data['genres'].str.replace('|',' ')\n"
          ]
        }
      ],
      "source": [
        "data['genres'] = data['genres'].str.replace('|',' ')"
      ]
    },
    {
      "cell_type": "code",
      "execution_count": null,
      "metadata": {
        "id": "2dYb5IlRi5u-",
        "outputId": "66391ac4-7534-43c1-df38-9fb62afa0883"
      },
      "outputs": [
        {
          "data": {
            "text/html": [
              "<div>\n",
              "<style scoped>\n",
              "    .dataframe tbody tr th:only-of-type {\n",
              "        vertical-align: middle;\n",
              "    }\n",
              "\n",
              "    .dataframe tbody tr th {\n",
              "        vertical-align: top;\n",
              "    }\n",
              "\n",
              "    .dataframe thead th {\n",
              "        text-align: right;\n",
              "    }\n",
              "</style>\n",
              "<table border=\"1\" class=\"dataframe\">\n",
              "  <thead>\n",
              "    <tr style=\"text-align: right;\">\n",
              "      <th></th>\n",
              "      <th>movie_title</th>\n",
              "      <th>director_name</th>\n",
              "      <th>actor_1_name</th>\n",
              "      <th>actor_2_name</th>\n",
              "      <th>actor_3_name</th>\n",
              "      <th>genres</th>\n",
              "    </tr>\n",
              "  </thead>\n",
              "  <tbody>\n",
              "    <tr>\n",
              "      <th>0</th>\n",
              "      <td>Avatar</td>\n",
              "      <td>James Cameron</td>\n",
              "      <td>CCH Pounder</td>\n",
              "      <td>Joel David Moore</td>\n",
              "      <td>Wes Studi</td>\n",
              "      <td>Action Adventure Fantasy Sci-Fi</td>\n",
              "    </tr>\n",
              "    <tr>\n",
              "      <th>1</th>\n",
              "      <td>Pirates of the Caribbean: At World's End</td>\n",
              "      <td>Gore Verbinski</td>\n",
              "      <td>Johnny Depp</td>\n",
              "      <td>Orlando Bloom</td>\n",
              "      <td>Jack Davenport</td>\n",
              "      <td>Action Adventure Fantasy</td>\n",
              "    </tr>\n",
              "    <tr>\n",
              "      <th>2</th>\n",
              "      <td>Spectre</td>\n",
              "      <td>Sam Mendes</td>\n",
              "      <td>Christoph Waltz</td>\n",
              "      <td>Rory Kinnear</td>\n",
              "      <td>Stephanie Sigman</td>\n",
              "      <td>Action Adventure Thriller</td>\n",
              "    </tr>\n",
              "    <tr>\n",
              "      <th>3</th>\n",
              "      <td>The Dark Knight Rises</td>\n",
              "      <td>Christopher Nolan</td>\n",
              "      <td>Tom Hardy</td>\n",
              "      <td>Christian Bale</td>\n",
              "      <td>Joseph Gordon-Levitt</td>\n",
              "      <td>Action Thriller</td>\n",
              "    </tr>\n",
              "    <tr>\n",
              "      <th>4</th>\n",
              "      <td>Star Wars: Episode VII - The Force Awakens    ...</td>\n",
              "      <td>Doug Walker</td>\n",
              "      <td>Doug Walker</td>\n",
              "      <td>Rob Walker</td>\n",
              "      <td>Unknown</td>\n",
              "      <td>Documentary</td>\n",
              "    </tr>\n",
              "  </tbody>\n",
              "</table>\n",
              "</div>"
            ],
            "text/plain": [
              "                                         movie_title      director_name  \\\n",
              "0                                            Avatar       James Cameron   \n",
              "1          Pirates of the Caribbean: At World's End      Gore Verbinski   \n",
              "2                                           Spectre          Sam Mendes   \n",
              "3                             The Dark Knight Rises   Christopher Nolan   \n",
              "4  Star Wars: Episode VII - The Force Awakens    ...        Doug Walker   \n",
              "\n",
              "      actor_1_name      actor_2_name          actor_3_name  \\\n",
              "0      CCH Pounder  Joel David Moore             Wes Studi   \n",
              "1      Johnny Depp     Orlando Bloom        Jack Davenport   \n",
              "2  Christoph Waltz      Rory Kinnear      Stephanie Sigman   \n",
              "3        Tom Hardy    Christian Bale  Joseph Gordon-Levitt   \n",
              "4      Doug Walker        Rob Walker               Unknown   \n",
              "\n",
              "                            genres  \n",
              "0  Action Adventure Fantasy Sci-Fi  \n",
              "1         Action Adventure Fantasy  \n",
              "2        Action Adventure Thriller  \n",
              "3                  Action Thriller  \n",
              "4                      Documentary  "
            ]
          },
          "execution_count": 14,
          "metadata": {},
          "output_type": "execute_result"
        }
      ],
      "source": [
        "data.head()"
      ]
    },
    {
      "cell_type": "code",
      "execution_count": null,
      "metadata": {
        "id": "stWlZsMsi5u_",
        "outputId": "4833e720-3303-4758-eb1e-4ffb07510368"
      },
      "outputs": [
        {
          "data": {
            "text/plain": [
              "\"Pirates of the Caribbean: At World's End\\xa0\""
            ]
          },
          "execution_count": 15,
          "metadata": {},
          "output_type": "execute_result"
        }
      ],
      "source": [
        "data['movie_title'][1]"
      ]
    },
    {
      "cell_type": "code",
      "execution_count": null,
      "metadata": {
        "id": "NbxAuIani5u_"
      },
      "outputs": [],
      "source": [
        "# Removed the \\xa0 from movie title \n",
        "for i in range(data.shape[0]):\n",
        "    data['movie_title'][i] = \" \".join(data['movie_title'][i].split()).lower()"
      ]
    },
    {
      "cell_type": "code",
      "execution_count": null,
      "metadata": {
        "id": "j1FrLszyi5u_",
        "outputId": "e15d0249-cd26-46f5-d801-befd54223b5c"
      },
      "outputs": [
        {
          "data": {
            "text/plain": [
              "\"pirates of the caribbean: at world's end\""
            ]
          },
          "execution_count": 17,
          "metadata": {},
          "output_type": "execute_result"
        }
      ],
      "source": [
        "data['movie_title'][1]"
      ]
    },
    {
      "cell_type": "code",
      "execution_count": null,
      "metadata": {
        "id": "l00G2MS4i5vA",
        "outputId": "d3960574-029e-4640-f2c8-76b0700b1f2e"
      },
      "outputs": [
        {
          "data": {
            "text/html": [
              "<div>\n",
              "<style scoped>\n",
              "    .dataframe tbody tr th:only-of-type {\n",
              "        vertical-align: middle;\n",
              "    }\n",
              "\n",
              "    .dataframe tbody tr th {\n",
              "        vertical-align: top;\n",
              "    }\n",
              "\n",
              "    .dataframe thead th {\n",
              "        text-align: right;\n",
              "    }\n",
              "</style>\n",
              "<table border=\"1\" class=\"dataframe\">\n",
              "  <thead>\n",
              "    <tr style=\"text-align: right;\">\n",
              "      <th></th>\n",
              "      <th>movie_title</th>\n",
              "      <th>director_name</th>\n",
              "      <th>actor_1_name</th>\n",
              "      <th>actor_2_name</th>\n",
              "      <th>actor_3_name</th>\n",
              "      <th>genres</th>\n",
              "    </tr>\n",
              "  </thead>\n",
              "  <tbody>\n",
              "    <tr>\n",
              "      <th>0</th>\n",
              "      <td>avatar</td>\n",
              "      <td>James Cameron</td>\n",
              "      <td>CCH Pounder</td>\n",
              "      <td>Joel David Moore</td>\n",
              "      <td>Wes Studi</td>\n",
              "      <td>Action Adventure Fantasy Sci-Fi</td>\n",
              "    </tr>\n",
              "    <tr>\n",
              "      <th>1</th>\n",
              "      <td>pirates of the caribbean: at world's end</td>\n",
              "      <td>Gore Verbinski</td>\n",
              "      <td>Johnny Depp</td>\n",
              "      <td>Orlando Bloom</td>\n",
              "      <td>Jack Davenport</td>\n",
              "      <td>Action Adventure Fantasy</td>\n",
              "    </tr>\n",
              "    <tr>\n",
              "      <th>2</th>\n",
              "      <td>spectre</td>\n",
              "      <td>Sam Mendes</td>\n",
              "      <td>Christoph Waltz</td>\n",
              "      <td>Rory Kinnear</td>\n",
              "      <td>Stephanie Sigman</td>\n",
              "      <td>Action Adventure Thriller</td>\n",
              "    </tr>\n",
              "    <tr>\n",
              "      <th>3</th>\n",
              "      <td>the dark knight rises</td>\n",
              "      <td>Christopher Nolan</td>\n",
              "      <td>Tom Hardy</td>\n",
              "      <td>Christian Bale</td>\n",
              "      <td>Joseph Gordon-Levitt</td>\n",
              "      <td>Action Thriller</td>\n",
              "    </tr>\n",
              "    <tr>\n",
              "      <th>4</th>\n",
              "      <td>star wars: episode vii - the force awakens</td>\n",
              "      <td>Doug Walker</td>\n",
              "      <td>Doug Walker</td>\n",
              "      <td>Rob Walker</td>\n",
              "      <td>Unknown</td>\n",
              "      <td>Documentary</td>\n",
              "    </tr>\n",
              "    <tr>\n",
              "      <th>5</th>\n",
              "      <td>john carter</td>\n",
              "      <td>Andrew Stanton</td>\n",
              "      <td>Daryl Sabara</td>\n",
              "      <td>Samantha Morton</td>\n",
              "      <td>Polly Walker</td>\n",
              "      <td>Action Adventure Sci-Fi</td>\n",
              "    </tr>\n",
              "    <tr>\n",
              "      <th>6</th>\n",
              "      <td>spider-man 3</td>\n",
              "      <td>Sam Raimi</td>\n",
              "      <td>J.K. Simmons</td>\n",
              "      <td>James Franco</td>\n",
              "      <td>Kirsten Dunst</td>\n",
              "      <td>Action Adventure Romance</td>\n",
              "    </tr>\n",
              "    <tr>\n",
              "      <th>7</th>\n",
              "      <td>tangled</td>\n",
              "      <td>Nathan Greno</td>\n",
              "      <td>Brad Garrett</td>\n",
              "      <td>Donna Murphy</td>\n",
              "      <td>M.C. Gainey</td>\n",
              "      <td>Adventure Animation Comedy Family Fantasy Musi...</td>\n",
              "    </tr>\n",
              "    <tr>\n",
              "      <th>8</th>\n",
              "      <td>avengers: age of ultron</td>\n",
              "      <td>Joss Whedon</td>\n",
              "      <td>Chris Hemsworth</td>\n",
              "      <td>Robert Downey Jr.</td>\n",
              "      <td>Scarlett Johansson</td>\n",
              "      <td>Action Adventure Sci-Fi</td>\n",
              "    </tr>\n",
              "    <tr>\n",
              "      <th>9</th>\n",
              "      <td>harry potter and the half-blood prince</td>\n",
              "      <td>David Yates</td>\n",
              "      <td>Alan Rickman</td>\n",
              "      <td>Daniel Radcliffe</td>\n",
              "      <td>Rupert Grint</td>\n",
              "      <td>Adventure Family Fantasy Mystery</td>\n",
              "    </tr>\n",
              "  </tbody>\n",
              "</table>\n",
              "</div>"
            ],
            "text/plain": [
              "                                  movie_title      director_name  \\\n",
              "0                                      avatar      James Cameron   \n",
              "1    pirates of the caribbean: at world's end     Gore Verbinski   \n",
              "2                                     spectre         Sam Mendes   \n",
              "3                       the dark knight rises  Christopher Nolan   \n",
              "4  star wars: episode vii - the force awakens        Doug Walker   \n",
              "5                                 john carter     Andrew Stanton   \n",
              "6                                spider-man 3          Sam Raimi   \n",
              "7                                     tangled       Nathan Greno   \n",
              "8                     avengers: age of ultron        Joss Whedon   \n",
              "9      harry potter and the half-blood prince        David Yates   \n",
              "\n",
              "      actor_1_name       actor_2_name          actor_3_name  \\\n",
              "0      CCH Pounder   Joel David Moore             Wes Studi   \n",
              "1      Johnny Depp      Orlando Bloom        Jack Davenport   \n",
              "2  Christoph Waltz       Rory Kinnear      Stephanie Sigman   \n",
              "3        Tom Hardy     Christian Bale  Joseph Gordon-Levitt   \n",
              "4      Doug Walker         Rob Walker               Unknown   \n",
              "5     Daryl Sabara    Samantha Morton          Polly Walker   \n",
              "6     J.K. Simmons       James Franco         Kirsten Dunst   \n",
              "7     Brad Garrett       Donna Murphy           M.C. Gainey   \n",
              "8  Chris Hemsworth  Robert Downey Jr.    Scarlett Johansson   \n",
              "9     Alan Rickman   Daniel Radcliffe          Rupert Grint   \n",
              "\n",
              "                                              genres  \n",
              "0                    Action Adventure Fantasy Sci-Fi  \n",
              "1                           Action Adventure Fantasy  \n",
              "2                          Action Adventure Thriller  \n",
              "3                                    Action Thriller  \n",
              "4                                        Documentary  \n",
              "5                            Action Adventure Sci-Fi  \n",
              "6                           Action Adventure Romance  \n",
              "7  Adventure Animation Comedy Family Fantasy Musi...  \n",
              "8                            Action Adventure Sci-Fi  \n",
              "9                   Adventure Family Fantasy Mystery  "
            ]
          },
          "execution_count": 18,
          "metadata": {},
          "output_type": "execute_result"
        }
      ],
      "source": [
        "data.head(10)"
      ]
    },
    {
      "cell_type": "code",
      "execution_count": null,
      "metadata": {
        "id": "nYGq3qOLi5vA",
        "outputId": "3416a713-cb91-4f11-8003-b8b8bf486021"
      },
      "outputs": [
        {
          "data": {
            "text/plain": [
              "'Action Adventure Fantasy Sci-Fi'"
            ]
          },
          "execution_count": 19,
          "metadata": {},
          "output_type": "execute_result"
        }
      ],
      "source": [
        "data['genres'][0]"
      ]
    },
    {
      "cell_type": "code",
      "execution_count": null,
      "metadata": {
        "id": "J5f8lDMui5vA"
      },
      "outputs": [],
      "source": [
        "data.to_csv('data2016.csv',index=False)"
      ]
    },
    {
      "cell_type": "code",
      "execution_count": null,
      "metadata": {
        "id": "RESZEHGti5vB"
      },
      "outputs": [],
      "source": []
    }
  ],
  "metadata": {
    "colab": {
      "name": "preprocessing1.ipynb",
      "provenance": []
    },
    "kernelspec": {
      "display_name": "Python 3",
      "language": "python",
      "name": "python3"
    },
    "language_info": {
      "codemirror_mode": {
        "name": "ipython",
        "version": 3
      },
      "file_extension": ".py",
      "mimetype": "text/x-python",
      "name": "python",
      "nbconvert_exporter": "python",
      "pygments_lexer": "ipython3",
      "version": "3.8.5"
    }
  },
  "nbformat": 4,
  "nbformat_minor": 0
}
