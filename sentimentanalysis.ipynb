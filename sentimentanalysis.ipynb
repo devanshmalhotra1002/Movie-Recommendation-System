{
  "cells": [
    {
      "cell_type": "markdown",
      "source": [
        "##SENTIMENT ANALYSIS"
      ],
      "metadata": {
        "id": "uPORjzkXzIlU"
      }
    },
    {
      "cell_type": "code",
      "execution_count": null,
      "metadata": {
        "id": "tMyYlAP4zEbk"
      },
      "outputs": [],
      "source": [
        "import pandas as pd \n",
        "import numpy as np"
      ]
    },
    {
      "cell_type": "code",
      "execution_count": null,
      "metadata": {
        "id": "kHPNY1OezEbl"
      },
      "outputs": [],
      "source": [
        "ds = pd.read_csv('/Users/devanshmalhotra/Desktop/movie_recommendation_system/reviews.txt',sep='\\t',names=['Review','Comment'])"
      ]
    },
    {
      "cell_type": "code",
      "execution_count": null,
      "metadata": {
        "id": "ZgguAOykzEbm",
        "outputId": "cdc1d471-804a-4f2f-9a11-8b7fe81e894d"
      },
      "outputs": [
        {
          "data": {
            "text/html": [
              "<div>\n",
              "<style scoped>\n",
              "    .dataframe tbody tr th:only-of-type {\n",
              "        vertical-align: middle;\n",
              "    }\n",
              "\n",
              "    .dataframe tbody tr th {\n",
              "        vertical-align: top;\n",
              "    }\n",
              "\n",
              "    .dataframe thead th {\n",
              "        text-align: right;\n",
              "    }\n",
              "</style>\n",
              "<table border=\"1\" class=\"dataframe\">\n",
              "  <thead>\n",
              "    <tr style=\"text-align: right;\">\n",
              "      <th></th>\n",
              "      <th>Review</th>\n",
              "      <th>Comment</th>\n",
              "    </tr>\n",
              "  </thead>\n",
              "  <tbody>\n",
              "    <tr>\n",
              "      <th>0</th>\n",
              "      <td>1</td>\n",
              "      <td>The Da Vinci Code book is just awesome.</td>\n",
              "    </tr>\n",
              "    <tr>\n",
              "      <th>1</th>\n",
              "      <td>1</td>\n",
              "      <td>this was the first clive cussler i've ever rea...</td>\n",
              "    </tr>\n",
              "    <tr>\n",
              "      <th>2</th>\n",
              "      <td>1</td>\n",
              "      <td>i liked the Da Vinci Code a lot.</td>\n",
              "    </tr>\n",
              "    <tr>\n",
              "      <th>3</th>\n",
              "      <td>1</td>\n",
              "      <td>i liked the Da Vinci Code a lot.</td>\n",
              "    </tr>\n",
              "    <tr>\n",
              "      <th>4</th>\n",
              "      <td>1</td>\n",
              "      <td>I liked the Da Vinci Code but it ultimatly did...</td>\n",
              "    </tr>\n",
              "  </tbody>\n",
              "</table>\n",
              "</div>"
            ],
            "text/plain": [
              "   Review                                            Comment\n",
              "0       1            The Da Vinci Code book is just awesome.\n",
              "1       1  this was the first clive cussler i've ever rea...\n",
              "2       1                   i liked the Da Vinci Code a lot.\n",
              "3       1                   i liked the Da Vinci Code a lot.\n",
              "4       1  I liked the Da Vinci Code but it ultimatly did..."
            ]
          },
          "execution_count": 3,
          "metadata": {},
          "output_type": "execute_result"
        }
      ],
      "source": [
        "ds.head()"
      ]
    },
    {
      "cell_type": "code",
      "execution_count": null,
      "metadata": {
        "id": "2xjPLKUazEbn",
        "outputId": "cb8a3943-7285-44f9-a899-dd9e91ab2113"
      },
      "outputs": [
        {
          "data": {
            "text/plain": [
              "\"this was the first clive cussler i've ever read, but even books like Relic, and Da Vinci code were more plausible than this.\""
            ]
          },
          "execution_count": 4,
          "metadata": {},
          "output_type": "execute_result"
        }
      ],
      "source": [
        "ds['Comment'][1]"
      ]
    },
    {
      "cell_type": "code",
      "execution_count": null,
      "metadata": {
        "id": "8LLSEKxvzEbo"
      },
      "outputs": [],
      "source": [
        "ds['Comment'] = ds['Comment'].str.lower()"
      ]
    },
    {
      "cell_type": "code",
      "execution_count": null,
      "metadata": {
        "id": "gZKtowrJzEbo",
        "outputId": "c41ed37c-81c2-4b1c-ee4f-62f94968e905"
      },
      "outputs": [
        {
          "data": {
            "text/html": [
              "<div>\n",
              "<style scoped>\n",
              "    .dataframe tbody tr th:only-of-type {\n",
              "        vertical-align: middle;\n",
              "    }\n",
              "\n",
              "    .dataframe tbody tr th {\n",
              "        vertical-align: top;\n",
              "    }\n",
              "\n",
              "    .dataframe thead th {\n",
              "        text-align: right;\n",
              "    }\n",
              "</style>\n",
              "<table border=\"1\" class=\"dataframe\">\n",
              "  <thead>\n",
              "    <tr style=\"text-align: right;\">\n",
              "      <th></th>\n",
              "      <th>Review</th>\n",
              "      <th>Comment</th>\n",
              "    </tr>\n",
              "  </thead>\n",
              "  <tbody>\n",
              "    <tr>\n",
              "      <th>0</th>\n",
              "      <td>1</td>\n",
              "      <td>the da vinci code book is just awesome.</td>\n",
              "    </tr>\n",
              "    <tr>\n",
              "      <th>1</th>\n",
              "      <td>1</td>\n",
              "      <td>this was the first clive cussler i've ever rea...</td>\n",
              "    </tr>\n",
              "    <tr>\n",
              "      <th>2</th>\n",
              "      <td>1</td>\n",
              "      <td>i liked the da vinci code a lot.</td>\n",
              "    </tr>\n",
              "    <tr>\n",
              "      <th>3</th>\n",
              "      <td>1</td>\n",
              "      <td>i liked the da vinci code a lot.</td>\n",
              "    </tr>\n",
              "    <tr>\n",
              "      <th>4</th>\n",
              "      <td>1</td>\n",
              "      <td>i liked the da vinci code but it ultimatly did...</td>\n",
              "    </tr>\n",
              "  </tbody>\n",
              "</table>\n",
              "</div>"
            ],
            "text/plain": [
              "   Review                                            Comment\n",
              "0       1            the da vinci code book is just awesome.\n",
              "1       1  this was the first clive cussler i've ever rea...\n",
              "2       1                   i liked the da vinci code a lot.\n",
              "3       1                   i liked the da vinci code a lot.\n",
              "4       1  i liked the da vinci code but it ultimatly did..."
            ]
          },
          "execution_count": 6,
          "metadata": {},
          "output_type": "execute_result"
        }
      ],
      "source": [
        "ds.head()"
      ]
    },
    {
      "cell_type": "code",
      "execution_count": null,
      "metadata": {
        "id": "tc92JJtxzEbp"
      },
      "outputs": [],
      "source": [
        "import nltk \n",
        "from nltk.corpus import stopwords"
      ]
    },
    {
      "cell_type": "markdown",
      "metadata": {
        "id": "TqxhSLP_zEbp"
      },
      "source": [
        "### Natural language processing (NLP) \n",
        "is a field that focuses on making natural human language usable by computer programs. NLTK or Natural Language Toolkit is a Python package that can be used for NLP. Stopwords are the words that dont add any meaning to the snetence and should be filtered out like 'in', 'an' and 'the'."
      ]
    },
    {
      "cell_type": "code",
      "execution_count": null,
      "metadata": {
        "id": "yUtT4AzezEbr",
        "outputId": "14f8f26f-6131-40d8-af71-a28d5cadef8e"
      },
      "outputs": [
        {
          "name": "stderr",
          "output_type": "stream",
          "text": [
            "[nltk_data] Downloading package stopwords to\n",
            "[nltk_data]     /Users/devanshmalhotra/nltk_data...\n",
            "[nltk_data]   Package stopwords is already up-to-date!\n"
          ]
        },
        {
          "data": {
            "text/plain": [
              "True"
            ]
          },
          "execution_count": 8,
          "metadata": {},
          "output_type": "execute_result"
        }
      ],
      "source": [
        "nltk.download('stopwords')"
      ]
    },
    {
      "cell_type": "code",
      "execution_count": null,
      "metadata": {
        "id": "n_BYSC35zEbr"
      },
      "outputs": [],
      "source": [
        "stopset = set(stopwords.words('english'))"
      ]
    },
    {
      "cell_type": "code",
      "execution_count": null,
      "metadata": {
        "id": "eW5B__3KzEbs"
      },
      "outputs": [],
      "source": [
        "from sklearn.feature_extraction.text import TfidfVectorizer"
      ]
    },
    {
      "cell_type": "markdown",
      "metadata": {
        "id": "GG1kwc1czEbs"
      },
      "source": [
        "TF-IDF Vecotrizer is used to convert a collection of raw documents to a matrix of TF-IDF features. TF-IDF is a statistical measure that evaluates how relevant a word is to a document in a collection of documents. TF stands for Term Frequency and IDF for Inverse Document Frequency."
      ]
    },
    {
      "cell_type": "code",
      "execution_count": null,
      "metadata": {
        "id": "V64FhFMqzEbt"
      },
      "outputs": [],
      "source": [
        "vectorizer = TfidfVectorizer(use_idf = True, strip_accents='ascii',stop_words=stopset)"
      ]
    },
    {
      "cell_type": "code",
      "execution_count": null,
      "metadata": {
        "id": "CXO6xsZPzEbt"
      },
      "outputs": [],
      "source": [
        "X = vectorizer.fit_transform(ds.Comment)\n",
        "Y = ds.Review"
      ]
    },
    {
      "cell_type": "code",
      "execution_count": null,
      "metadata": {
        "id": "Doj6ZKjlzEbu",
        "outputId": "23df5f49-2258-4dd4-91d6-765510dc41f4"
      },
      "outputs": [
        {
          "data": {
            "text/plain": [
              "2011"
            ]
          },
          "execution_count": 19,
          "metadata": {},
          "output_type": "execute_result"
        }
      ],
      "source": [
        "len(vectorizer.get_feature_names())"
      ]
    },
    {
      "cell_type": "code",
      "execution_count": null,
      "metadata": {
        "id": "9BWTLj05zEbu"
      },
      "outputs": [],
      "source": [
        "picklefile = open('transform.pkl','wb')"
      ]
    },
    {
      "cell_type": "code",
      "execution_count": null,
      "metadata": {
        "id": "iiVu1cC7zEbv"
      },
      "outputs": [],
      "source": [
        "import pickle"
      ]
    },
    {
      "cell_type": "code",
      "execution_count": null,
      "metadata": {
        "id": "dHCxZ82gzEbw"
      },
      "outputs": [],
      "source": [
        "pickle.dump(vectorizer,picklefile)"
      ]
    },
    {
      "cell_type": "code",
      "execution_count": null,
      "metadata": {
        "id": "YoX2wOfBzEbw"
      },
      "outputs": [],
      "source": [
        "from sklearn.model_selection import train_test_split"
      ]
    },
    {
      "cell_type": "code",
      "execution_count": null,
      "metadata": {
        "id": "00oH-HVZzEbx"
      },
      "outputs": [],
      "source": [
        "X_train, X_test, Y_train, Y_test = train_test_split(X,Y,test_size=0.2)"
      ]
    },
    {
      "cell_type": "code",
      "execution_count": null,
      "metadata": {
        "id": "YH9tShI7zEby"
      },
      "outputs": [],
      "source": [
        "from sklearn import naive_bayes"
      ]
    },
    {
      "cell_type": "markdown",
      "metadata": {
        "id": "LddplKx0zEby"
      },
      "source": [
        "Naive Bayes methods are a set of supervised learning algorithms based on applying Baye's theorem with the an assumption of conditional independence between every pair of features."
      ]
    },
    {
      "cell_type": "code",
      "execution_count": null,
      "metadata": {
        "id": "OmuD8PKuzEbz",
        "outputId": "2aef42c2-63d8-4d41-c835-b938eac303ab"
      },
      "outputs": [
        {
          "data": {
            "text/plain": [
              "MultinomialNB()"
            ]
          },
          "execution_count": 28,
          "metadata": {},
          "output_type": "execute_result"
        }
      ],
      "source": [
        "classifier = naive_bayes.MultinomialNB()\n",
        "classifier.fit(X_train,Y_train)"
      ]
    },
    {
      "cell_type": "code",
      "execution_count": null,
      "metadata": {
        "id": "Cg0ZTZ9ozEbz"
      },
      "outputs": [],
      "source": [
        "from sklearn.metrics import accuracy_score"
      ]
    },
    {
      "cell_type": "code",
      "execution_count": null,
      "metadata": {
        "id": "uNTKqTMXzEb0",
        "outputId": "f9ebd576-5270-4ad2-b183-a3ab358767ab"
      },
      "outputs": [
        {
          "data": {
            "text/plain": [
              "0.9826589595375722"
            ]
          },
          "execution_count": 30,
          "metadata": {},
          "output_type": "execute_result"
        }
      ],
      "source": [
        "accuracy_score(Y_test,classifier.predict(X_test))"
      ]
    },
    {
      "cell_type": "code",
      "execution_count": null,
      "metadata": {
        "id": "u6GcSyTQzEb0"
      },
      "outputs": [],
      "source": [
        "picklefile = open('nlp_model.pkl','wb')"
      ]
    },
    {
      "cell_type": "code",
      "execution_count": null,
      "metadata": {
        "id": "svcfnguTzEb0"
      },
      "outputs": [],
      "source": [
        "pickle.dump(classifier,picklefile)"
      ]
    },
    {
      "cell_type": "code",
      "execution_count": null,
      "metadata": {
        "id": "oLx6PUkVzEb1"
      },
      "outputs": [],
      "source": [
        ""
      ]
    }
  ],
  "metadata": {
    "kernelspec": {
      "display_name": "Python 3",
      "language": "python",
      "name": "python3"
    },
    "language_info": {
      "codemirror_mode": {
        "name": "ipython",
        "version": 3
      },
      "file_extension": ".py",
      "mimetype": "text/x-python",
      "name": "python",
      "nbconvert_exporter": "python",
      "pygments_lexer": "ipython3",
      "version": "3.8.5"
    },
    "colab": {
      "name": "sentimentanalysis.ipynb",
      "provenance": []
    }
  },
  "nbformat": 4,
  "nbformat_minor": 0
}