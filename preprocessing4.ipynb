{
  "cells": [
    {
      "cell_type": "code",
      "execution_count": null,
      "metadata": {
        "id": "kBT9umPY7vFA"
      },
      "outputs": [],
      "source": [
        "# Imported Python Libraries\n",
        "import pandas as pd \n",
        "import numpy as np"
      ]
    },
    {
      "cell_type": "markdown",
      "metadata": {
        "id": "0xG25i-27vFB"
      },
      "source": [
        "# Getting Data of 2019"
      ]
    },
    {
      "cell_type": "code",
      "execution_count": null,
      "metadata": {
        "id": "yRts9JtE7vFD"
      },
      "outputs": [],
      "source": [
        "link = \"https://en.wikipedia.org/wiki/List_of_American_films_of_2019\"\n",
        "df1 = pd.read_html(link,header=0)[2]\n",
        "df2 = pd.read_html(link,header=0)[3]\n",
        "df3 = pd.read_html(link,header=0)[4]\n",
        "df4 = pd.read_html(link,header=0)[5]"
      ]
    },
    {
      "cell_type": "code",
      "execution_count": null,
      "metadata": {
        "id": "NjIkYcWe7vFE"
      },
      "outputs": [],
      "source": [
        "df = df1.append(df2.append(df3.append(df4,ignore_index=True),ignore_index=True),ignore_index=True)"
      ]
    },
    {
      "cell_type": "code",
      "execution_count": null,
      "metadata": {
        "id": "lsVMfhD-7vFF",
        "outputId": "9a4ac77e-691e-4449-a7f4-fd5ad7490be0"
      },
      "outputs": [
        {
          "data": {
            "text/html": [
              "<div>\n",
              "<style scoped>\n",
              "    .dataframe tbody tr th:only-of-type {\n",
              "        vertical-align: middle;\n",
              "    }\n",
              "\n",
              "    .dataframe tbody tr th {\n",
              "        vertical-align: top;\n",
              "    }\n",
              "\n",
              "    .dataframe thead th {\n",
              "        text-align: right;\n",
              "    }\n",
              "</style>\n",
              "<table border=\"1\" class=\"dataframe\">\n",
              "  <thead>\n",
              "    <tr style=\"text-align: right;\">\n",
              "      <th></th>\n",
              "      <th>Opening</th>\n",
              "      <th>Opening.1</th>\n",
              "      <th>Title</th>\n",
              "      <th>Production company</th>\n",
              "      <th>Cast and crew</th>\n",
              "      <th>Ref.</th>\n",
              "    </tr>\n",
              "  </thead>\n",
              "  <tbody>\n",
              "    <tr>\n",
              "      <th>0</th>\n",
              "      <td>JANUARY</td>\n",
              "      <td>4</td>\n",
              "      <td>Escape Room</td>\n",
              "      <td>Columbia Pictures</td>\n",
              "      <td>Adam Robitel (director); Bragi F. Schut, Maria...</td>\n",
              "      <td>[2]</td>\n",
              "    </tr>\n",
              "    <tr>\n",
              "      <th>1</th>\n",
              "      <td>JANUARY</td>\n",
              "      <td>4</td>\n",
              "      <td>Rust Creek</td>\n",
              "      <td>IFC Films</td>\n",
              "      <td>Jen McGowan (director); Julie Lipson (screenpl...</td>\n",
              "      <td>[3]</td>\n",
              "    </tr>\n",
              "    <tr>\n",
              "      <th>2</th>\n",
              "      <td>JANUARY</td>\n",
              "      <td>4</td>\n",
              "      <td>American Hangman</td>\n",
              "      <td>Hangman Justice Productions</td>\n",
              "      <td>Wilson Coneybeare (director/screenplay); Donal...</td>\n",
              "      <td>[4]</td>\n",
              "    </tr>\n",
              "    <tr>\n",
              "      <th>3</th>\n",
              "      <td>JANUARY</td>\n",
              "      <td>11</td>\n",
              "      <td>A Dog's Way Home</td>\n",
              "      <td>Columbia Pictures</td>\n",
              "      <td>Charles Martin Smith (director); W. Bruce Came...</td>\n",
              "      <td>[5]</td>\n",
              "    </tr>\n",
              "    <tr>\n",
              "      <th>4</th>\n",
              "      <td>JANUARY</td>\n",
              "      <td>11</td>\n",
              "      <td>The Upside</td>\n",
              "      <td>STX Entertainment</td>\n",
              "      <td>Neil Burger (director); Jon Hartmere (screenpl...</td>\n",
              "      <td>[6]</td>\n",
              "    </tr>\n",
              "    <tr>\n",
              "      <th>...</th>\n",
              "      <td>...</td>\n",
              "      <td>...</td>\n",
              "      <td>...</td>\n",
              "      <td>...</td>\n",
              "      <td>...</td>\n",
              "      <td>...</td>\n",
              "    </tr>\n",
              "    <tr>\n",
              "      <th>237</th>\n",
              "      <td>DECEMBER</td>\n",
              "      <td>25</td>\n",
              "      <td>Spies in Disguise</td>\n",
              "      <td>20th Century Fox / Blue Sky Studios / Chernin ...</td>\n",
              "      <td>Nick Bruno, Troy Quane (directors); Brad Copel...</td>\n",
              "      <td>[132]</td>\n",
              "    </tr>\n",
              "    <tr>\n",
              "      <th>238</th>\n",
              "      <td>DECEMBER</td>\n",
              "      <td>25</td>\n",
              "      <td>Little Women</td>\n",
              "      <td>Columbia Pictures / Regency Enterprises</td>\n",
              "      <td>Greta Gerwig (director/screenplay); Saoirse Ro...</td>\n",
              "      <td>[221]</td>\n",
              "    </tr>\n",
              "    <tr>\n",
              "      <th>239</th>\n",
              "      <td>DECEMBER</td>\n",
              "      <td>25</td>\n",
              "      <td>1917</td>\n",
              "      <td>Universal Pictures / DreamWorks Pictures / Ent...</td>\n",
              "      <td>Sam Mendes (director/screenplay); Krysty Wilso...</td>\n",
              "      <td>[222]</td>\n",
              "    </tr>\n",
              "    <tr>\n",
              "      <th>240</th>\n",
              "      <td>DECEMBER</td>\n",
              "      <td>25</td>\n",
              "      <td>Just Mercy</td>\n",
              "      <td>Warner Bros. Pictures / Participant Media</td>\n",
              "      <td>Destin Daniel Cretton (director/screenplay), A...</td>\n",
              "      <td>[223]</td>\n",
              "    </tr>\n",
              "    <tr>\n",
              "      <th>241</th>\n",
              "      <td>DECEMBER</td>\n",
              "      <td>27</td>\n",
              "      <td>Clemency</td>\n",
              "      <td>Neon</td>\n",
              "      <td>Chinonye Chukwu (director/screenplay); Alfre W...</td>\n",
              "      <td>[224]</td>\n",
              "    </tr>\n",
              "  </tbody>\n",
              "</table>\n",
              "<p>242 rows × 6 columns</p>\n",
              "</div>"
            ],
            "text/plain": [
              "      Opening  Opening.1              Title  \\\n",
              "0     JANUARY          4        Escape Room   \n",
              "1     JANUARY          4         Rust Creek   \n",
              "2     JANUARY          4   American Hangman   \n",
              "3     JANUARY         11   A Dog's Way Home   \n",
              "4     JANUARY         11         The Upside   \n",
              "..        ...        ...                ...   \n",
              "237  DECEMBER         25  Spies in Disguise   \n",
              "238  DECEMBER         25       Little Women   \n",
              "239  DECEMBER         25               1917   \n",
              "240  DECEMBER         25         Just Mercy   \n",
              "241  DECEMBER         27           Clemency   \n",
              "\n",
              "                                    Production company  \\\n",
              "0                                    Columbia Pictures   \n",
              "1                                            IFC Films   \n",
              "2                          Hangman Justice Productions   \n",
              "3                                    Columbia Pictures   \n",
              "4                                    STX Entertainment   \n",
              "..                                                 ...   \n",
              "237  20th Century Fox / Blue Sky Studios / Chernin ...   \n",
              "238            Columbia Pictures / Regency Enterprises   \n",
              "239  Universal Pictures / DreamWorks Pictures / Ent...   \n",
              "240          Warner Bros. Pictures / Participant Media   \n",
              "241                                               Neon   \n",
              "\n",
              "                                         Cast and crew   Ref.  \n",
              "0    Adam Robitel (director); Bragi F. Schut, Maria...    [2]  \n",
              "1    Jen McGowan (director); Julie Lipson (screenpl...    [3]  \n",
              "2    Wilson Coneybeare (director/screenplay); Donal...    [4]  \n",
              "3    Charles Martin Smith (director); W. Bruce Came...    [5]  \n",
              "4    Neil Burger (director); Jon Hartmere (screenpl...    [6]  \n",
              "..                                                 ...    ...  \n",
              "237  Nick Bruno, Troy Quane (directors); Brad Copel...  [132]  \n",
              "238  Greta Gerwig (director/screenplay); Saoirse Ro...  [221]  \n",
              "239  Sam Mendes (director/screenplay); Krysty Wilso...  [222]  \n",
              "240  Destin Daniel Cretton (director/screenplay), A...  [223]  \n",
              "241  Chinonye Chukwu (director/screenplay); Alfre W...  [224]  \n",
              "\n",
              "[242 rows x 6 columns]"
            ]
          },
          "execution_count": 4,
          "metadata": {},
          "output_type": "execute_result"
        }
      ],
      "source": [
        "df"
      ]
    },
    {
      "cell_type": "code",
      "execution_count": null,
      "metadata": {
        "id": "Iq07EKMw7vFG",
        "outputId": "9f7dd564-90d1-40b2-fdf3-d41abb53589a"
      },
      "outputs": [
        {
          "data": {
            "text/plain": [
              "(242, 6)"
            ]
          },
          "execution_count": 5,
          "metadata": {},
          "output_type": "execute_result"
        }
      ],
      "source": [
        "df.shape"
      ]
    },
    {
      "cell_type": "code",
      "execution_count": null,
      "metadata": {
        "id": "fumVIvkV7vFG",
        "outputId": "01b612a7-8b1d-4b7c-f067-2646b4ff9498"
      },
      "outputs": [
        {
          "data": {
            "text/plain": [
              "Index(['Opening', 'Opening.1', 'Title', 'Production company', 'Cast and crew',\n",
              "       'Ref.'],\n",
              "      dtype='object')"
            ]
          },
          "execution_count": 6,
          "metadata": {},
          "output_type": "execute_result"
        }
      ],
      "source": [
        "df.columns"
      ]
    },
    {
      "cell_type": "code",
      "execution_count": null,
      "metadata": {
        "id": "OmEHq10U7vFH"
      },
      "outputs": [],
      "source": [
        "from tmdbv3api import TMDb\n",
        "tmdb = TMDb()\n",
        "tmdb.api_key = '29b8861cdb448c28d0af9f16f86df084'"
      ]
    },
    {
      "cell_type": "code",
      "execution_count": null,
      "metadata": {
        "id": "Tpp9eclV7vFI"
      },
      "outputs": [],
      "source": [
        "from tmdbv3api import Movie\n",
        "movie = Movie()"
      ]
    },
    {
      "cell_type": "code",
      "execution_count": null,
      "metadata": {
        "id": "K-IXgS2c7vFI"
      },
      "outputs": [],
      "source": [
        "import requests\n",
        "def genres(x):\n",
        "    genres = []\n",
        "    \n",
        "    mov = movie.search(x)\n",
        "    id_ = mov[0]['id']\n",
        "    req = requests.get('https://api.themoviedb.org/3/movie/{}?api_key=29b8861cdb448c28d0af9f16f86df084'.format(id_))\n",
        "    dic = req.json()['genres']\n",
        "    for i in range(0,len(dic)):\n",
        "        genres.append(dic[i]['name'])\n",
        "        \n",
        "    if genres==[]:\n",
        "        return np.NaN\n",
        "    else:\n",
        "        gen = \" \".join(genres)\n",
        "        return gen"
      ]
    },
    {
      "cell_type": "code",
      "execution_count": null,
      "metadata": {
        "id": "CdIQq4g47vFK"
      },
      "outputs": [],
      "source": [
        "df['genres'] = df['Title'].map(lambda x : genres(x))"
      ]
    },
    {
      "cell_type": "code",
      "execution_count": null,
      "metadata": {
        "id": "D-t8LeL37vFK",
        "outputId": "8d91a8b6-e377-4715-9f8e-b0bbd5815ac2"
      },
      "outputs": [
        {
          "data": {
            "text/html": [
              "<div>\n",
              "<style scoped>\n",
              "    .dataframe tbody tr th:only-of-type {\n",
              "        vertical-align: middle;\n",
              "    }\n",
              "\n",
              "    .dataframe tbody tr th {\n",
              "        vertical-align: top;\n",
              "    }\n",
              "\n",
              "    .dataframe thead th {\n",
              "        text-align: right;\n",
              "    }\n",
              "</style>\n",
              "<table border=\"1\" class=\"dataframe\">\n",
              "  <thead>\n",
              "    <tr style=\"text-align: right;\">\n",
              "      <th></th>\n",
              "      <th>Opening</th>\n",
              "      <th>Opening.1</th>\n",
              "      <th>Title</th>\n",
              "      <th>Production company</th>\n",
              "      <th>Cast and crew</th>\n",
              "      <th>Ref.</th>\n",
              "      <th>genres</th>\n",
              "    </tr>\n",
              "  </thead>\n",
              "  <tbody>\n",
              "    <tr>\n",
              "      <th>0</th>\n",
              "      <td>JANUARY</td>\n",
              "      <td>4</td>\n",
              "      <td>Escape Room</td>\n",
              "      <td>Columbia Pictures</td>\n",
              "      <td>Adam Robitel (director); Bragi F. Schut, Maria...</td>\n",
              "      <td>[2]</td>\n",
              "      <td>Thriller Action Mystery Adventure Horror</td>\n",
              "    </tr>\n",
              "    <tr>\n",
              "      <th>1</th>\n",
              "      <td>JANUARY</td>\n",
              "      <td>4</td>\n",
              "      <td>Rust Creek</td>\n",
              "      <td>IFC Films</td>\n",
              "      <td>Jen McGowan (director); Julie Lipson (screenpl...</td>\n",
              "      <td>[3]</td>\n",
              "      <td>Thriller Drama</td>\n",
              "    </tr>\n",
              "    <tr>\n",
              "      <th>2</th>\n",
              "      <td>JANUARY</td>\n",
              "      <td>4</td>\n",
              "      <td>American Hangman</td>\n",
              "      <td>Hangman Justice Productions</td>\n",
              "      <td>Wilson Coneybeare (director/screenplay); Donal...</td>\n",
              "      <td>[4]</td>\n",
              "      <td>Thriller</td>\n",
              "    </tr>\n",
              "    <tr>\n",
              "      <th>3</th>\n",
              "      <td>JANUARY</td>\n",
              "      <td>11</td>\n",
              "      <td>A Dog's Way Home</td>\n",
              "      <td>Columbia Pictures</td>\n",
              "      <td>Charles Martin Smith (director); W. Bruce Came...</td>\n",
              "      <td>[5]</td>\n",
              "      <td>Drama Adventure Family</td>\n",
              "    </tr>\n",
              "    <tr>\n",
              "      <th>4</th>\n",
              "      <td>JANUARY</td>\n",
              "      <td>11</td>\n",
              "      <td>The Upside</td>\n",
              "      <td>STX Entertainment</td>\n",
              "      <td>Neil Burger (director); Jon Hartmere (screenpl...</td>\n",
              "      <td>[6]</td>\n",
              "      <td>Comedy Drama</td>\n",
              "    </tr>\n",
              "    <tr>\n",
              "      <th>...</th>\n",
              "      <td>...</td>\n",
              "      <td>...</td>\n",
              "      <td>...</td>\n",
              "      <td>...</td>\n",
              "      <td>...</td>\n",
              "      <td>...</td>\n",
              "      <td>...</td>\n",
              "    </tr>\n",
              "    <tr>\n",
              "      <th>237</th>\n",
              "      <td>DECEMBER</td>\n",
              "      <td>25</td>\n",
              "      <td>Spies in Disguise</td>\n",
              "      <td>20th Century Fox / Blue Sky Studios / Chernin ...</td>\n",
              "      <td>Nick Bruno, Troy Quane (directors); Brad Copel...</td>\n",
              "      <td>[132]</td>\n",
              "      <td>Animation Action Adventure Comedy Family</td>\n",
              "    </tr>\n",
              "    <tr>\n",
              "      <th>238</th>\n",
              "      <td>DECEMBER</td>\n",
              "      <td>25</td>\n",
              "      <td>Little Women</td>\n",
              "      <td>Columbia Pictures / Regency Enterprises</td>\n",
              "      <td>Greta Gerwig (director/screenplay); Saoirse Ro...</td>\n",
              "      <td>[221]</td>\n",
              "      <td>Drama Romance</td>\n",
              "    </tr>\n",
              "    <tr>\n",
              "      <th>239</th>\n",
              "      <td>DECEMBER</td>\n",
              "      <td>25</td>\n",
              "      <td>1917</td>\n",
              "      <td>Universal Pictures / DreamWorks Pictures / Ent...</td>\n",
              "      <td>Sam Mendes (director/screenplay); Krysty Wilso...</td>\n",
              "      <td>[222]</td>\n",
              "      <td>War Drama Action Thriller</td>\n",
              "    </tr>\n",
              "    <tr>\n",
              "      <th>240</th>\n",
              "      <td>DECEMBER</td>\n",
              "      <td>25</td>\n",
              "      <td>Just Mercy</td>\n",
              "      <td>Warner Bros. Pictures / Participant Media</td>\n",
              "      <td>Destin Daniel Cretton (director/screenplay), A...</td>\n",
              "      <td>[223]</td>\n",
              "      <td>Drama Crime History</td>\n",
              "    </tr>\n",
              "    <tr>\n",
              "      <th>241</th>\n",
              "      <td>DECEMBER</td>\n",
              "      <td>27</td>\n",
              "      <td>Clemency</td>\n",
              "      <td>Neon</td>\n",
              "      <td>Chinonye Chukwu (director/screenplay); Alfre W...</td>\n",
              "      <td>[224]</td>\n",
              "      <td>Drama</td>\n",
              "    </tr>\n",
              "  </tbody>\n",
              "</table>\n",
              "<p>242 rows × 7 columns</p>\n",
              "</div>"
            ],
            "text/plain": [
              "      Opening  Opening.1              Title  \\\n",
              "0     JANUARY          4        Escape Room   \n",
              "1     JANUARY          4         Rust Creek   \n",
              "2     JANUARY          4   American Hangman   \n",
              "3     JANUARY         11   A Dog's Way Home   \n",
              "4     JANUARY         11         The Upside   \n",
              "..        ...        ...                ...   \n",
              "237  DECEMBER         25  Spies in Disguise   \n",
              "238  DECEMBER         25       Little Women   \n",
              "239  DECEMBER         25               1917   \n",
              "240  DECEMBER         25         Just Mercy   \n",
              "241  DECEMBER         27           Clemency   \n",
              "\n",
              "                                    Production company  \\\n",
              "0                                    Columbia Pictures   \n",
              "1                                            IFC Films   \n",
              "2                          Hangman Justice Productions   \n",
              "3                                    Columbia Pictures   \n",
              "4                                    STX Entertainment   \n",
              "..                                                 ...   \n",
              "237  20th Century Fox / Blue Sky Studios / Chernin ...   \n",
              "238            Columbia Pictures / Regency Enterprises   \n",
              "239  Universal Pictures / DreamWorks Pictures / Ent...   \n",
              "240          Warner Bros. Pictures / Participant Media   \n",
              "241                                               Neon   \n",
              "\n",
              "                                         Cast and crew   Ref.  \\\n",
              "0    Adam Robitel (director); Bragi F. Schut, Maria...    [2]   \n",
              "1    Jen McGowan (director); Julie Lipson (screenpl...    [3]   \n",
              "2    Wilson Coneybeare (director/screenplay); Donal...    [4]   \n",
              "3    Charles Martin Smith (director); W. Bruce Came...    [5]   \n",
              "4    Neil Burger (director); Jon Hartmere (screenpl...    [6]   \n",
              "..                                                 ...    ...   \n",
              "237  Nick Bruno, Troy Quane (directors); Brad Copel...  [132]   \n",
              "238  Greta Gerwig (director/screenplay); Saoirse Ro...  [221]   \n",
              "239  Sam Mendes (director/screenplay); Krysty Wilso...  [222]   \n",
              "240  Destin Daniel Cretton (director/screenplay), A...  [223]   \n",
              "241  Chinonye Chukwu (director/screenplay); Alfre W...  [224]   \n",
              "\n",
              "                                       genres  \n",
              "0    Thriller Action Mystery Adventure Horror  \n",
              "1                              Thriller Drama  \n",
              "2                                    Thriller  \n",
              "3                      Drama Adventure Family  \n",
              "4                                Comedy Drama  \n",
              "..                                        ...  \n",
              "237  Animation Action Adventure Comedy Family  \n",
              "238                             Drama Romance  \n",
              "239                 War Drama Action Thriller  \n",
              "240                       Drama Crime History  \n",
              "241                                     Drama  \n",
              "\n",
              "[242 rows x 7 columns]"
            ]
          },
          "execution_count": 11,
          "metadata": {},
          "output_type": "execute_result"
        }
      ],
      "source": [
        "df"
      ]
    },
    {
      "cell_type": "code",
      "execution_count": null,
      "metadata": {
        "id": "rKIuqm8o7vFL"
      },
      "outputs": [],
      "source": [
        "df = df.loc[:,['Title','Cast and crew','genres']]"
      ]
    },
    {
      "cell_type": "code",
      "execution_count": null,
      "metadata": {
        "id": "Tppwgrvf7vFL",
        "outputId": "3bc1fdd4-359f-4260-a07f-dc56701df2a9"
      },
      "outputs": [
        {
          "data": {
            "text/html": [
              "<div>\n",
              "<style scoped>\n",
              "    .dataframe tbody tr th:only-of-type {\n",
              "        vertical-align: middle;\n",
              "    }\n",
              "\n",
              "    .dataframe tbody tr th {\n",
              "        vertical-align: top;\n",
              "    }\n",
              "\n",
              "    .dataframe thead th {\n",
              "        text-align: right;\n",
              "    }\n",
              "</style>\n",
              "<table border=\"1\" class=\"dataframe\">\n",
              "  <thead>\n",
              "    <tr style=\"text-align: right;\">\n",
              "      <th></th>\n",
              "      <th>Title</th>\n",
              "      <th>Cast and crew</th>\n",
              "      <th>genres</th>\n",
              "    </tr>\n",
              "  </thead>\n",
              "  <tbody>\n",
              "    <tr>\n",
              "      <th>0</th>\n",
              "      <td>Escape Room</td>\n",
              "      <td>Adam Robitel (director); Bragi F. Schut, Maria...</td>\n",
              "      <td>Thriller Action Mystery Adventure Horror</td>\n",
              "    </tr>\n",
              "    <tr>\n",
              "      <th>1</th>\n",
              "      <td>Rust Creek</td>\n",
              "      <td>Jen McGowan (director); Julie Lipson (screenpl...</td>\n",
              "      <td>Thriller Drama</td>\n",
              "    </tr>\n",
              "    <tr>\n",
              "      <th>2</th>\n",
              "      <td>American Hangman</td>\n",
              "      <td>Wilson Coneybeare (director/screenplay); Donal...</td>\n",
              "      <td>Thriller</td>\n",
              "    </tr>\n",
              "    <tr>\n",
              "      <th>3</th>\n",
              "      <td>A Dog's Way Home</td>\n",
              "      <td>Charles Martin Smith (director); W. Bruce Came...</td>\n",
              "      <td>Drama Adventure Family</td>\n",
              "    </tr>\n",
              "    <tr>\n",
              "      <th>4</th>\n",
              "      <td>The Upside</td>\n",
              "      <td>Neil Burger (director); Jon Hartmere (screenpl...</td>\n",
              "      <td>Comedy Drama</td>\n",
              "    </tr>\n",
              "  </tbody>\n",
              "</table>\n",
              "</div>"
            ],
            "text/plain": [
              "              Title                                      Cast and crew  \\\n",
              "0       Escape Room  Adam Robitel (director); Bragi F. Schut, Maria...   \n",
              "1        Rust Creek  Jen McGowan (director); Julie Lipson (screenpl...   \n",
              "2  American Hangman  Wilson Coneybeare (director/screenplay); Donal...   \n",
              "3  A Dog's Way Home  Charles Martin Smith (director); W. Bruce Came...   \n",
              "4        The Upside  Neil Burger (director); Jon Hartmere (screenpl...   \n",
              "\n",
              "                                     genres  \n",
              "0  Thriller Action Mystery Adventure Horror  \n",
              "1                            Thriller Drama  \n",
              "2                                  Thriller  \n",
              "3                    Drama Adventure Family  \n",
              "4                              Comedy Drama  "
            ]
          },
          "execution_count": 13,
          "metadata": {},
          "output_type": "execute_result"
        }
      ],
      "source": [
        "df.head()"
      ]
    },
    {
      "cell_type": "code",
      "execution_count": null,
      "metadata": {
        "id": "9l2Q2Cwe7vFL"
      },
      "outputs": [],
      "source": [
        "def director(x):\n",
        "    return x.split(' (')[0]"
      ]
    },
    {
      "cell_type": "code",
      "execution_count": null,
      "metadata": {
        "id": "pwAw_HgV7vFM"
      },
      "outputs": [],
      "source": [
        "df['director_name'] = df['Cast and crew'].map(lambda i : director(i))"
      ]
    },
    {
      "cell_type": "code",
      "execution_count": null,
      "metadata": {
        "id": "V8XTJP1N7vFk",
        "outputId": "4f626e93-f327-45f2-8489-3321b809a4e6"
      },
      "outputs": [
        {
          "data": {
            "text/html": [
              "<div>\n",
              "<style scoped>\n",
              "    .dataframe tbody tr th:only-of-type {\n",
              "        vertical-align: middle;\n",
              "    }\n",
              "\n",
              "    .dataframe tbody tr th {\n",
              "        vertical-align: top;\n",
              "    }\n",
              "\n",
              "    .dataframe thead th {\n",
              "        text-align: right;\n",
              "    }\n",
              "</style>\n",
              "<table border=\"1\" class=\"dataframe\">\n",
              "  <thead>\n",
              "    <tr style=\"text-align: right;\">\n",
              "      <th></th>\n",
              "      <th>Title</th>\n",
              "      <th>Cast and crew</th>\n",
              "      <th>genres</th>\n",
              "      <th>director_name</th>\n",
              "    </tr>\n",
              "  </thead>\n",
              "  <tbody>\n",
              "    <tr>\n",
              "      <th>0</th>\n",
              "      <td>Escape Room</td>\n",
              "      <td>Adam Robitel (director); Bragi F. Schut, Maria...</td>\n",
              "      <td>Thriller Action Mystery Adventure Horror</td>\n",
              "      <td>Adam Robitel</td>\n",
              "    </tr>\n",
              "    <tr>\n",
              "      <th>1</th>\n",
              "      <td>Rust Creek</td>\n",
              "      <td>Jen McGowan (director); Julie Lipson (screenpl...</td>\n",
              "      <td>Thriller Drama</td>\n",
              "      <td>Jen McGowan</td>\n",
              "    </tr>\n",
              "    <tr>\n",
              "      <th>2</th>\n",
              "      <td>American Hangman</td>\n",
              "      <td>Wilson Coneybeare (director/screenplay); Donal...</td>\n",
              "      <td>Thriller</td>\n",
              "      <td>Wilson Coneybeare</td>\n",
              "    </tr>\n",
              "    <tr>\n",
              "      <th>3</th>\n",
              "      <td>A Dog's Way Home</td>\n",
              "      <td>Charles Martin Smith (director); W. Bruce Came...</td>\n",
              "      <td>Drama Adventure Family</td>\n",
              "      <td>Charles Martin Smith</td>\n",
              "    </tr>\n",
              "    <tr>\n",
              "      <th>4</th>\n",
              "      <td>The Upside</td>\n",
              "      <td>Neil Burger (director); Jon Hartmere (screenpl...</td>\n",
              "      <td>Comedy Drama</td>\n",
              "      <td>Neil Burger</td>\n",
              "    </tr>\n",
              "  </tbody>\n",
              "</table>\n",
              "</div>"
            ],
            "text/plain": [
              "              Title                                      Cast and crew  \\\n",
              "0       Escape Room  Adam Robitel (director); Bragi F. Schut, Maria...   \n",
              "1        Rust Creek  Jen McGowan (director); Julie Lipson (screenpl...   \n",
              "2  American Hangman  Wilson Coneybeare (director/screenplay); Donal...   \n",
              "3  A Dog's Way Home  Charles Martin Smith (director); W. Bruce Came...   \n",
              "4        The Upside  Neil Burger (director); Jon Hartmere (screenpl...   \n",
              "\n",
              "                                     genres         director_name  \n",
              "0  Thriller Action Mystery Adventure Horror          Adam Robitel  \n",
              "1                            Thriller Drama           Jen McGowan  \n",
              "2                                  Thriller     Wilson Coneybeare  \n",
              "3                    Drama Adventure Family  Charles Martin Smith  \n",
              "4                              Comedy Drama           Neil Burger  "
            ]
          },
          "execution_count": 16,
          "metadata": {},
          "output_type": "execute_result"
        }
      ],
      "source": [
        "df.head()"
      ]
    },
    {
      "cell_type": "code",
      "execution_count": null,
      "metadata": {
        "id": "XBikk1xn7vFl"
      },
      "outputs": [],
      "source": [
        "def actor_1_name(x):\n",
        "    return x.split('; ')[-1].split(', ')[0]"
      ]
    },
    {
      "cell_type": "code",
      "execution_count": null,
      "metadata": {
        "id": "asonMsjb7vFl"
      },
      "outputs": [],
      "source": [
        "df['actor_1_name'] = df['Cast and crew'].map(lambda i : actor_1_name(i))"
      ]
    },
    {
      "cell_type": "code",
      "execution_count": null,
      "metadata": {
        "id": "e_Zng7qZ7vFl"
      },
      "outputs": [],
      "source": [
        "def actor_2_name(x):\n",
        "    if len(x.split('; ')[-1].split(', '))<2:\n",
        "        return np.NaN\n",
        "    else:\n",
        "        return x.split('; ')[-1].split(', ')[1]"
      ]
    },
    {
      "cell_type": "code",
      "execution_count": null,
      "metadata": {
        "id": "0r0xj4HK7vFm"
      },
      "outputs": [],
      "source": [
        "df['actor_2_name'] = df['Cast and crew'].map(lambda i : actor_2_name(i))"
      ]
    },
    {
      "cell_type": "code",
      "execution_count": null,
      "metadata": {
        "id": "uf6Zyj697vFm"
      },
      "outputs": [],
      "source": [
        "def actor_3_name(x):\n",
        "    if len(x.split('; ')[-1].split(', '))<3:\n",
        "        return np.NaN\n",
        "    else:\n",
        "        return x.split('; ')[-1].split(', ')[2]"
      ]
    },
    {
      "cell_type": "code",
      "execution_count": null,
      "metadata": {
        "id": "GVDG6-Re7vFm"
      },
      "outputs": [],
      "source": [
        "df['actor_3_name'] = df['Cast and crew'].map(lambda i : actor_3_name(i))"
      ]
    },
    {
      "cell_type": "code",
      "execution_count": null,
      "metadata": {
        "id": "k0-ZZmQ17vFm"
      },
      "outputs": [],
      "source": [
        "df = df.rename(columns={'Title':'movie_title'})"
      ]
    },
    {
      "cell_type": "code",
      "execution_count": null,
      "metadata": {
        "id": "dJSozjJy7vFm"
      },
      "outputs": [],
      "source": [
        "df = df.loc[:,['movie_title','director_name','actor_1_name','actor_2_name','actor_3_name','genres']]"
      ]
    },
    {
      "cell_type": "code",
      "execution_count": null,
      "metadata": {
        "id": "SmJAyvsE7vFm",
        "outputId": "d2661682-2dbb-41c7-8ceb-73190e21ae36"
      },
      "outputs": [
        {
          "data": {
            "text/html": [
              "<div>\n",
              "<style scoped>\n",
              "    .dataframe tbody tr th:only-of-type {\n",
              "        vertical-align: middle;\n",
              "    }\n",
              "\n",
              "    .dataframe tbody tr th {\n",
              "        vertical-align: top;\n",
              "    }\n",
              "\n",
              "    .dataframe thead th {\n",
              "        text-align: right;\n",
              "    }\n",
              "</style>\n",
              "<table border=\"1\" class=\"dataframe\">\n",
              "  <thead>\n",
              "    <tr style=\"text-align: right;\">\n",
              "      <th></th>\n",
              "      <th>movie_title</th>\n",
              "      <th>director_name</th>\n",
              "      <th>actor_1_name</th>\n",
              "      <th>actor_2_name</th>\n",
              "      <th>actor_3_name</th>\n",
              "      <th>genres</th>\n",
              "    </tr>\n",
              "  </thead>\n",
              "  <tbody>\n",
              "    <tr>\n",
              "      <th>0</th>\n",
              "      <td>Escape Room</td>\n",
              "      <td>Adam Robitel</td>\n",
              "      <td>Taylor Russell</td>\n",
              "      <td>Logan Miller</td>\n",
              "      <td>Deborah Ann Woll</td>\n",
              "      <td>Thriller Action Mystery Adventure Horror</td>\n",
              "    </tr>\n",
              "    <tr>\n",
              "      <th>1</th>\n",
              "      <td>Rust Creek</td>\n",
              "      <td>Jen McGowan</td>\n",
              "      <td>Hermione Corfield</td>\n",
              "      <td>Jay Paulson</td>\n",
              "      <td>Sean O'Bryan</td>\n",
              "      <td>Thriller Drama</td>\n",
              "    </tr>\n",
              "    <tr>\n",
              "      <th>2</th>\n",
              "      <td>American Hangman</td>\n",
              "      <td>Wilson Coneybeare</td>\n",
              "      <td>Donald Sutherland</td>\n",
              "      <td>Vincent Kartheiser</td>\n",
              "      <td>Oliver Dennis</td>\n",
              "      <td>Thriller</td>\n",
              "    </tr>\n",
              "    <tr>\n",
              "      <th>3</th>\n",
              "      <td>A Dog's Way Home</td>\n",
              "      <td>Charles Martin Smith</td>\n",
              "      <td>Bryce Dallas Howard</td>\n",
              "      <td>Edward James Olmos</td>\n",
              "      <td>Alexandra Shipp</td>\n",
              "      <td>Drama Adventure Family</td>\n",
              "    </tr>\n",
              "    <tr>\n",
              "      <th>4</th>\n",
              "      <td>The Upside</td>\n",
              "      <td>Neil Burger</td>\n",
              "      <td>Bryan Cranston</td>\n",
              "      <td>Kevin Hart</td>\n",
              "      <td>Nicole Kidman</td>\n",
              "      <td>Comedy Drama</td>\n",
              "    </tr>\n",
              "  </tbody>\n",
              "</table>\n",
              "</div>"
            ],
            "text/plain": [
              "        movie_title         director_name         actor_1_name  \\\n",
              "0       Escape Room          Adam Robitel       Taylor Russell   \n",
              "1        Rust Creek           Jen McGowan    Hermione Corfield   \n",
              "2  American Hangman     Wilson Coneybeare    Donald Sutherland   \n",
              "3  A Dog's Way Home  Charles Martin Smith  Bryce Dallas Howard   \n",
              "4        The Upside           Neil Burger       Bryan Cranston   \n",
              "\n",
              "         actor_2_name      actor_3_name  \\\n",
              "0        Logan Miller  Deborah Ann Woll   \n",
              "1         Jay Paulson      Sean O'Bryan   \n",
              "2  Vincent Kartheiser     Oliver Dennis   \n",
              "3  Edward James Olmos   Alexandra Shipp   \n",
              "4          Kevin Hart     Nicole Kidman   \n",
              "\n",
              "                                     genres  \n",
              "0  Thriller Action Mystery Adventure Horror  \n",
              "1                            Thriller Drama  \n",
              "2                                  Thriller  \n",
              "3                    Drama Adventure Family  \n",
              "4                              Comedy Drama  "
            ]
          },
          "execution_count": 25,
          "metadata": {},
          "output_type": "execute_result"
        }
      ],
      "source": [
        "df.head()"
      ]
    },
    {
      "cell_type": "code",
      "execution_count": null,
      "metadata": {
        "id": "j6RovNOk7vFn"
      },
      "outputs": [],
      "source": [
        "df['actor_2_name'] = df['actor_2_name'].replace(np.NaN,'Unknown')"
      ]
    },
    {
      "cell_type": "code",
      "execution_count": null,
      "metadata": {
        "id": "TvJRiV437vFn"
      },
      "outputs": [],
      "source": [
        "df['actor_3_name'] = df['actor_3_name'].replace(np.NaN,'Unknown')"
      ]
    },
    {
      "cell_type": "code",
      "execution_count": null,
      "metadata": {
        "id": "Yk1xSXWc7vFn",
        "outputId": "774cb936-a137-4ca9-d8cd-943b6cd764bf"
      },
      "outputs": [
        {
          "data": {
            "text/html": [
              "<div>\n",
              "<style scoped>\n",
              "    .dataframe tbody tr th:only-of-type {\n",
              "        vertical-align: middle;\n",
              "    }\n",
              "\n",
              "    .dataframe tbody tr th {\n",
              "        vertical-align: top;\n",
              "    }\n",
              "\n",
              "    .dataframe thead th {\n",
              "        text-align: right;\n",
              "    }\n",
              "</style>\n",
              "<table border=\"1\" class=\"dataframe\">\n",
              "  <thead>\n",
              "    <tr style=\"text-align: right;\">\n",
              "      <th></th>\n",
              "      <th>movie_title</th>\n",
              "      <th>director_name</th>\n",
              "      <th>actor_1_name</th>\n",
              "      <th>actor_2_name</th>\n",
              "      <th>actor_3_name</th>\n",
              "      <th>genres</th>\n",
              "    </tr>\n",
              "  </thead>\n",
              "  <tbody>\n",
              "    <tr>\n",
              "      <th>0</th>\n",
              "      <td>Escape Room</td>\n",
              "      <td>Adam Robitel</td>\n",
              "      <td>Taylor Russell</td>\n",
              "      <td>Logan Miller</td>\n",
              "      <td>Deborah Ann Woll</td>\n",
              "      <td>Thriller Action Mystery Adventure Horror</td>\n",
              "    </tr>\n",
              "    <tr>\n",
              "      <th>1</th>\n",
              "      <td>Rust Creek</td>\n",
              "      <td>Jen McGowan</td>\n",
              "      <td>Hermione Corfield</td>\n",
              "      <td>Jay Paulson</td>\n",
              "      <td>Sean O'Bryan</td>\n",
              "      <td>Thriller Drama</td>\n",
              "    </tr>\n",
              "    <tr>\n",
              "      <th>2</th>\n",
              "      <td>American Hangman</td>\n",
              "      <td>Wilson Coneybeare</td>\n",
              "      <td>Donald Sutherland</td>\n",
              "      <td>Vincent Kartheiser</td>\n",
              "      <td>Oliver Dennis</td>\n",
              "      <td>Thriller</td>\n",
              "    </tr>\n",
              "    <tr>\n",
              "      <th>3</th>\n",
              "      <td>A Dog's Way Home</td>\n",
              "      <td>Charles Martin Smith</td>\n",
              "      <td>Bryce Dallas Howard</td>\n",
              "      <td>Edward James Olmos</td>\n",
              "      <td>Alexandra Shipp</td>\n",
              "      <td>Drama Adventure Family</td>\n",
              "    </tr>\n",
              "    <tr>\n",
              "      <th>4</th>\n",
              "      <td>The Upside</td>\n",
              "      <td>Neil Burger</td>\n",
              "      <td>Bryan Cranston</td>\n",
              "      <td>Kevin Hart</td>\n",
              "      <td>Nicole Kidman</td>\n",
              "      <td>Comedy Drama</td>\n",
              "    </tr>\n",
              "    <tr>\n",
              "      <th>...</th>\n",
              "      <td>...</td>\n",
              "      <td>...</td>\n",
              "      <td>...</td>\n",
              "      <td>...</td>\n",
              "      <td>...</td>\n",
              "      <td>...</td>\n",
              "    </tr>\n",
              "    <tr>\n",
              "      <th>237</th>\n",
              "      <td>Spies in Disguise</td>\n",
              "      <td>Nick Bruno, Troy Quane</td>\n",
              "      <td>Will Smith</td>\n",
              "      <td>Tom Holland</td>\n",
              "      <td>Rashida Jones</td>\n",
              "      <td>Animation Action Adventure Comedy Family</td>\n",
              "    </tr>\n",
              "    <tr>\n",
              "      <th>238</th>\n",
              "      <td>Little Women</td>\n",
              "      <td>Greta Gerwig</td>\n",
              "      <td>Saoirse Ronan</td>\n",
              "      <td>Emma Watson</td>\n",
              "      <td>Florence Pugh</td>\n",
              "      <td>Drama Romance</td>\n",
              "    </tr>\n",
              "    <tr>\n",
              "      <th>239</th>\n",
              "      <td>1917</td>\n",
              "      <td>Sam Mendes</td>\n",
              "      <td>George MacKay</td>\n",
              "      <td>Dean-Charles Chapman</td>\n",
              "      <td>Mark Strong</td>\n",
              "      <td>War Drama Action Thriller</td>\n",
              "    </tr>\n",
              "    <tr>\n",
              "      <th>240</th>\n",
              "      <td>Just Mercy</td>\n",
              "      <td>Destin Daniel Cretton</td>\n",
              "      <td>Michael B. Jordan</td>\n",
              "      <td>Jamie Foxx</td>\n",
              "      <td>Brie Larson</td>\n",
              "      <td>Drama Crime History</td>\n",
              "    </tr>\n",
              "    <tr>\n",
              "      <th>241</th>\n",
              "      <td>Clemency</td>\n",
              "      <td>Chinonye Chukwu</td>\n",
              "      <td>Alfre Woodard</td>\n",
              "      <td>Wendell Pierce</td>\n",
              "      <td>Aldis Hodge</td>\n",
              "      <td>Drama</td>\n",
              "    </tr>\n",
              "  </tbody>\n",
              "</table>\n",
              "<p>242 rows × 6 columns</p>\n",
              "</div>"
            ],
            "text/plain": [
              "           movie_title           director_name         actor_1_name  \\\n",
              "0          Escape Room            Adam Robitel       Taylor Russell   \n",
              "1           Rust Creek             Jen McGowan    Hermione Corfield   \n",
              "2     American Hangman       Wilson Coneybeare    Donald Sutherland   \n",
              "3     A Dog's Way Home    Charles Martin Smith  Bryce Dallas Howard   \n",
              "4           The Upside             Neil Burger       Bryan Cranston   \n",
              "..                 ...                     ...                  ...   \n",
              "237  Spies in Disguise  Nick Bruno, Troy Quane           Will Smith   \n",
              "238       Little Women            Greta Gerwig        Saoirse Ronan   \n",
              "239               1917              Sam Mendes        George MacKay   \n",
              "240         Just Mercy   Destin Daniel Cretton    Michael B. Jordan   \n",
              "241           Clemency         Chinonye Chukwu        Alfre Woodard   \n",
              "\n",
              "             actor_2_name      actor_3_name  \\\n",
              "0            Logan Miller  Deborah Ann Woll   \n",
              "1             Jay Paulson      Sean O'Bryan   \n",
              "2      Vincent Kartheiser     Oliver Dennis   \n",
              "3      Edward James Olmos   Alexandra Shipp   \n",
              "4              Kevin Hart     Nicole Kidman   \n",
              "..                    ...               ...   \n",
              "237           Tom Holland     Rashida Jones   \n",
              "238           Emma Watson     Florence Pugh   \n",
              "239  Dean-Charles Chapman       Mark Strong   \n",
              "240            Jamie Foxx       Brie Larson   \n",
              "241        Wendell Pierce       Aldis Hodge   \n",
              "\n",
              "                                       genres  \n",
              "0    Thriller Action Mystery Adventure Horror  \n",
              "1                              Thriller Drama  \n",
              "2                                    Thriller  \n",
              "3                      Drama Adventure Family  \n",
              "4                                Comedy Drama  \n",
              "..                                        ...  \n",
              "237  Animation Action Adventure Comedy Family  \n",
              "238                             Drama Romance  \n",
              "239                 War Drama Action Thriller  \n",
              "240                       Drama Crime History  \n",
              "241                                     Drama  \n",
              "\n",
              "[242 rows x 6 columns]"
            ]
          },
          "execution_count": 28,
          "metadata": {},
          "output_type": "execute_result"
        }
      ],
      "source": [
        "df"
      ]
    },
    {
      "cell_type": "code",
      "execution_count": null,
      "metadata": {
        "id": "Qf5a9XcL7vFn"
      },
      "outputs": [],
      "source": [
        "df['comb'] = df['actor_1_name']+' '+df['actor_2_name']+' '+df['actor_3_name']+' '+df['director_name']+' '+df['genres']"
      ]
    },
    {
      "cell_type": "code",
      "execution_count": null,
      "metadata": {
        "id": "lcYfZnVG7vFn",
        "outputId": "c6a53b14-0d77-47e4-c146-d0f1946329c7"
      },
      "outputs": [
        {
          "data": {
            "text/html": [
              "<div>\n",
              "<style scoped>\n",
              "    .dataframe tbody tr th:only-of-type {\n",
              "        vertical-align: middle;\n",
              "    }\n",
              "\n",
              "    .dataframe tbody tr th {\n",
              "        vertical-align: top;\n",
              "    }\n",
              "\n",
              "    .dataframe thead th {\n",
              "        text-align: right;\n",
              "    }\n",
              "</style>\n",
              "<table border=\"1\" class=\"dataframe\">\n",
              "  <thead>\n",
              "    <tr style=\"text-align: right;\">\n",
              "      <th></th>\n",
              "      <th>movie_title</th>\n",
              "      <th>director_name</th>\n",
              "      <th>actor_1_name</th>\n",
              "      <th>actor_2_name</th>\n",
              "      <th>actor_3_name</th>\n",
              "      <th>genres</th>\n",
              "      <th>comb</th>\n",
              "    </tr>\n",
              "  </thead>\n",
              "  <tbody>\n",
              "    <tr>\n",
              "      <th>0</th>\n",
              "      <td>Escape Room</td>\n",
              "      <td>Adam Robitel</td>\n",
              "      <td>Taylor Russell</td>\n",
              "      <td>Logan Miller</td>\n",
              "      <td>Deborah Ann Woll</td>\n",
              "      <td>Thriller Action Mystery Adventure Horror</td>\n",
              "      <td>Taylor Russell Logan Miller Deborah Ann Woll A...</td>\n",
              "    </tr>\n",
              "    <tr>\n",
              "      <th>1</th>\n",
              "      <td>Rust Creek</td>\n",
              "      <td>Jen McGowan</td>\n",
              "      <td>Hermione Corfield</td>\n",
              "      <td>Jay Paulson</td>\n",
              "      <td>Sean O'Bryan</td>\n",
              "      <td>Thriller Drama</td>\n",
              "      <td>Hermione Corfield Jay Paulson Sean O'Bryan Jen...</td>\n",
              "    </tr>\n",
              "    <tr>\n",
              "      <th>2</th>\n",
              "      <td>American Hangman</td>\n",
              "      <td>Wilson Coneybeare</td>\n",
              "      <td>Donald Sutherland</td>\n",
              "      <td>Vincent Kartheiser</td>\n",
              "      <td>Oliver Dennis</td>\n",
              "      <td>Thriller</td>\n",
              "      <td>Donald Sutherland Vincent Kartheiser Oliver De...</td>\n",
              "    </tr>\n",
              "    <tr>\n",
              "      <th>3</th>\n",
              "      <td>A Dog's Way Home</td>\n",
              "      <td>Charles Martin Smith</td>\n",
              "      <td>Bryce Dallas Howard</td>\n",
              "      <td>Edward James Olmos</td>\n",
              "      <td>Alexandra Shipp</td>\n",
              "      <td>Drama Adventure Family</td>\n",
              "      <td>Bryce Dallas Howard Edward James Olmos Alexand...</td>\n",
              "    </tr>\n",
              "    <tr>\n",
              "      <th>4</th>\n",
              "      <td>The Upside</td>\n",
              "      <td>Neil Burger</td>\n",
              "      <td>Bryan Cranston</td>\n",
              "      <td>Kevin Hart</td>\n",
              "      <td>Nicole Kidman</td>\n",
              "      <td>Comedy Drama</td>\n",
              "      <td>Bryan Cranston Kevin Hart Nicole Kidman Neil B...</td>\n",
              "    </tr>\n",
              "    <tr>\n",
              "      <th>5</th>\n",
              "      <td>Replicas</td>\n",
              "      <td>Jeffrey Nachmanoff</td>\n",
              "      <td>Keanu Reeves</td>\n",
              "      <td>Unknown</td>\n",
              "      <td>Unknown</td>\n",
              "      <td>Science Fiction Thriller</td>\n",
              "      <td>Keanu Reeves Unknown Unknown Jeffrey Nachmanof...</td>\n",
              "    </tr>\n",
              "    <tr>\n",
              "      <th>6</th>\n",
              "      <td>After Darkness</td>\n",
              "      <td>Batán Silva</td>\n",
              "      <td>Natalia Dyer</td>\n",
              "      <td>Kyra Sedgwick</td>\n",
              "      <td>Tim Daly</td>\n",
              "      <td>Drama Family Thriller Science Fiction</td>\n",
              "      <td>Natalia Dyer Kyra Sedgwick Tim Daly Batán Silv...</td>\n",
              "    </tr>\n",
              "    <tr>\n",
              "      <th>7</th>\n",
              "      <td>Glass</td>\n",
              "      <td>M. Night Shyamalan</td>\n",
              "      <td>James McAvoy</td>\n",
              "      <td>Bruce Willis</td>\n",
              "      <td>Samuel L. Jackson</td>\n",
              "      <td>Thriller Drama Science Fiction</td>\n",
              "      <td>James McAvoy Bruce Willis Samuel L. Jackson M....</td>\n",
              "    </tr>\n",
              "    <tr>\n",
              "      <th>8</th>\n",
              "      <td>Close</td>\n",
              "      <td>Vicky Jewson</td>\n",
              "      <td>Noomi Rapace</td>\n",
              "      <td>Sophie Nélisse</td>\n",
              "      <td>Indira Varma</td>\n",
              "      <td>Action Thriller</td>\n",
              "      <td>Noomi Rapace Sophie Nélisse Indira Varma Vicky...</td>\n",
              "    </tr>\n",
              "    <tr>\n",
              "      <th>9</th>\n",
              "      <td>The Standoff at Sparrow Creek</td>\n",
              "      <td>Henry Dunham</td>\n",
              "      <td>James Badge Dale</td>\n",
              "      <td>Brian Geraghty</td>\n",
              "      <td>Unknown</td>\n",
              "      <td>Drama Thriller Mystery</td>\n",
              "      <td>James Badge Dale Brian Geraghty Unknown Henry ...</td>\n",
              "    </tr>\n",
              "  </tbody>\n",
              "</table>\n",
              "</div>"
            ],
            "text/plain": [
              "                     movie_title         director_name         actor_1_name  \\\n",
              "0                    Escape Room          Adam Robitel       Taylor Russell   \n",
              "1                     Rust Creek           Jen McGowan    Hermione Corfield   \n",
              "2               American Hangman     Wilson Coneybeare    Donald Sutherland   \n",
              "3               A Dog's Way Home  Charles Martin Smith  Bryce Dallas Howard   \n",
              "4                     The Upside           Neil Burger       Bryan Cranston   \n",
              "5                       Replicas    Jeffrey Nachmanoff         Keanu Reeves   \n",
              "6                 After Darkness           Batán Silva         Natalia Dyer   \n",
              "7                          Glass    M. Night Shyamalan         James McAvoy   \n",
              "8                          Close          Vicky Jewson         Noomi Rapace   \n",
              "9  The Standoff at Sparrow Creek          Henry Dunham     James Badge Dale   \n",
              "\n",
              "         actor_2_name       actor_3_name  \\\n",
              "0        Logan Miller   Deborah Ann Woll   \n",
              "1         Jay Paulson       Sean O'Bryan   \n",
              "2  Vincent Kartheiser      Oliver Dennis   \n",
              "3  Edward James Olmos    Alexandra Shipp   \n",
              "4          Kevin Hart      Nicole Kidman   \n",
              "5             Unknown            Unknown   \n",
              "6       Kyra Sedgwick           Tim Daly   \n",
              "7        Bruce Willis  Samuel L. Jackson   \n",
              "8      Sophie Nélisse       Indira Varma   \n",
              "9      Brian Geraghty            Unknown   \n",
              "\n",
              "                                     genres  \\\n",
              "0  Thriller Action Mystery Adventure Horror   \n",
              "1                            Thriller Drama   \n",
              "2                                  Thriller   \n",
              "3                    Drama Adventure Family   \n",
              "4                              Comedy Drama   \n",
              "5                  Science Fiction Thriller   \n",
              "6     Drama Family Thriller Science Fiction   \n",
              "7            Thriller Drama Science Fiction   \n",
              "8                           Action Thriller   \n",
              "9                    Drama Thriller Mystery   \n",
              "\n",
              "                                                comb  \n",
              "0  Taylor Russell Logan Miller Deborah Ann Woll A...  \n",
              "1  Hermione Corfield Jay Paulson Sean O'Bryan Jen...  \n",
              "2  Donald Sutherland Vincent Kartheiser Oliver De...  \n",
              "3  Bryce Dallas Howard Edward James Olmos Alexand...  \n",
              "4  Bryan Cranston Kevin Hart Nicole Kidman Neil B...  \n",
              "5  Keanu Reeves Unknown Unknown Jeffrey Nachmanof...  \n",
              "6  Natalia Dyer Kyra Sedgwick Tim Daly Batán Silv...  \n",
              "7  James McAvoy Bruce Willis Samuel L. Jackson M....  \n",
              "8  Noomi Rapace Sophie Nélisse Indira Varma Vicky...  \n",
              "9  James Badge Dale Brian Geraghty Unknown Henry ...  "
            ]
          },
          "execution_count": 30,
          "metadata": {},
          "output_type": "execute_result"
        }
      ],
      "source": [
        "df.head(10)"
      ]
    },
    {
      "cell_type": "code",
      "execution_count": null,
      "metadata": {
        "id": "UyBkRPkr7vFo",
        "outputId": "94b6afcf-7566-465d-c9ba-8510d93d8798"
      },
      "outputs": [
        {
          "data": {
            "text/html": [
              "<div>\n",
              "<style scoped>\n",
              "    .dataframe tbody tr th:only-of-type {\n",
              "        vertical-align: middle;\n",
              "    }\n",
              "\n",
              "    .dataframe tbody tr th {\n",
              "        vertical-align: top;\n",
              "    }\n",
              "\n",
              "    .dataframe thead th {\n",
              "        text-align: right;\n",
              "    }\n",
              "</style>\n",
              "<table border=\"1\" class=\"dataframe\">\n",
              "  <thead>\n",
              "    <tr style=\"text-align: right;\">\n",
              "      <th></th>\n",
              "      <th>movie_title</th>\n",
              "      <th>director_name</th>\n",
              "      <th>actor_1_name</th>\n",
              "      <th>actor_2_name</th>\n",
              "      <th>actor_3_name</th>\n",
              "      <th>genres</th>\n",
              "      <th>comb</th>\n",
              "    </tr>\n",
              "  </thead>\n",
              "  <tbody>\n",
              "    <tr>\n",
              "      <th>0</th>\n",
              "      <td>escape room</td>\n",
              "      <td>Adam Robitel</td>\n",
              "      <td>Taylor Russell</td>\n",
              "      <td>Logan Miller</td>\n",
              "      <td>Deborah Ann Woll</td>\n",
              "      <td>Thriller Action Mystery Adventure Horror</td>\n",
              "      <td>Taylor Russell Logan Miller Deborah Ann Woll A...</td>\n",
              "    </tr>\n",
              "    <tr>\n",
              "      <th>1</th>\n",
              "      <td>rust creek</td>\n",
              "      <td>Jen McGowan</td>\n",
              "      <td>Hermione Corfield</td>\n",
              "      <td>Jay Paulson</td>\n",
              "      <td>Sean O'Bryan</td>\n",
              "      <td>Thriller Drama</td>\n",
              "      <td>Hermione Corfield Jay Paulson Sean O'Bryan Jen...</td>\n",
              "    </tr>\n",
              "    <tr>\n",
              "      <th>2</th>\n",
              "      <td>american hangman</td>\n",
              "      <td>Wilson Coneybeare</td>\n",
              "      <td>Donald Sutherland</td>\n",
              "      <td>Vincent Kartheiser</td>\n",
              "      <td>Oliver Dennis</td>\n",
              "      <td>Thriller</td>\n",
              "      <td>Donald Sutherland Vincent Kartheiser Oliver De...</td>\n",
              "    </tr>\n",
              "    <tr>\n",
              "      <th>3</th>\n",
              "      <td>a dog's way home</td>\n",
              "      <td>Charles Martin Smith</td>\n",
              "      <td>Bryce Dallas Howard</td>\n",
              "      <td>Edward James Olmos</td>\n",
              "      <td>Alexandra Shipp</td>\n",
              "      <td>Drama Adventure Family</td>\n",
              "      <td>Bryce Dallas Howard Edward James Olmos Alexand...</td>\n",
              "    </tr>\n",
              "    <tr>\n",
              "      <th>4</th>\n",
              "      <td>the upside</td>\n",
              "      <td>Neil Burger</td>\n",
              "      <td>Bryan Cranston</td>\n",
              "      <td>Kevin Hart</td>\n",
              "      <td>Nicole Kidman</td>\n",
              "      <td>Comedy Drama</td>\n",
              "      <td>Bryan Cranston Kevin Hart Nicole Kidman Neil B...</td>\n",
              "    </tr>\n",
              "  </tbody>\n",
              "</table>\n",
              "</div>"
            ],
            "text/plain": [
              "        movie_title         director_name         actor_1_name  \\\n",
              "0       escape room          Adam Robitel       Taylor Russell   \n",
              "1        rust creek           Jen McGowan    Hermione Corfield   \n",
              "2  american hangman     Wilson Coneybeare    Donald Sutherland   \n",
              "3  a dog's way home  Charles Martin Smith  Bryce Dallas Howard   \n",
              "4        the upside           Neil Burger       Bryan Cranston   \n",
              "\n",
              "         actor_2_name      actor_3_name  \\\n",
              "0        Logan Miller  Deborah Ann Woll   \n",
              "1         Jay Paulson      Sean O'Bryan   \n",
              "2  Vincent Kartheiser     Oliver Dennis   \n",
              "3  Edward James Olmos   Alexandra Shipp   \n",
              "4          Kevin Hart     Nicole Kidman   \n",
              "\n",
              "                                     genres  \\\n",
              "0  Thriller Action Mystery Adventure Horror   \n",
              "1                            Thriller Drama   \n",
              "2                                  Thriller   \n",
              "3                    Drama Adventure Family   \n",
              "4                              Comedy Drama   \n",
              "\n",
              "                                                comb  \n",
              "0  Taylor Russell Logan Miller Deborah Ann Woll A...  \n",
              "1  Hermione Corfield Jay Paulson Sean O'Bryan Jen...  \n",
              "2  Donald Sutherland Vincent Kartheiser Oliver De...  \n",
              "3  Bryce Dallas Howard Edward James Olmos Alexand...  \n",
              "4  Bryan Cranston Kevin Hart Nicole Kidman Neil B...  "
            ]
          },
          "execution_count": 31,
          "metadata": {},
          "output_type": "execute_result"
        }
      ],
      "source": [
        "df['movie_title'] = df['movie_title'].str.lower()\n",
        "df.head()"
      ]
    },
    {
      "cell_type": "code",
      "execution_count": null,
      "metadata": {
        "id": "roYRuwQ07vFo",
        "outputId": "bb6de469-3498-4652-8bc3-e0ab3a74dcb7"
      },
      "outputs": [
        {
          "data": {
            "text/plain": [
              "movie_title      0\n",
              "director_name    0\n",
              "actor_1_name     0\n",
              "actor_2_name     0\n",
              "actor_3_name     0\n",
              "genres           0\n",
              "comb             0\n",
              "dtype: int64"
            ]
          },
          "execution_count": 32,
          "metadata": {},
          "output_type": "execute_result"
        }
      ],
      "source": [
        "df.isna().sum()"
      ]
    },
    {
      "cell_type": "code",
      "execution_count": null,
      "metadata": {
        "id": "raU_glaT7vFo"
      },
      "outputs": [],
      "source": [
        "df = df.dropna()"
      ]
    },
    {
      "cell_type": "code",
      "execution_count": null,
      "metadata": {
        "id": "jmWf5mqz7vFo",
        "outputId": "8afdbee6-b759-4e4a-d4dd-5c084d8bc309"
      },
      "outputs": [
        {
          "data": {
            "text/plain": [
              "movie_title      0\n",
              "director_name    0\n",
              "actor_1_name     0\n",
              "actor_2_name     0\n",
              "actor_3_name     0\n",
              "genres           0\n",
              "comb             0\n",
              "dtype: int64"
            ]
          },
          "execution_count": 34,
          "metadata": {},
          "output_type": "execute_result"
        }
      ],
      "source": [
        "df.isna().sum()"
      ]
    },
    {
      "cell_type": "code",
      "execution_count": null,
      "metadata": {
        "id": "rVQXEMZj7vFp"
      },
      "outputs": [],
      "source": [
        ""
      ]
    },
    {
      "cell_type": "code",
      "execution_count": null,
      "metadata": {
        "id": "kIQWjI5j7vFp"
      },
      "outputs": [],
      "source": [
        "old = pd.read_csv('/Users/devanshmalhotra/Desktop/movie_recommendation_system/data2018.csv')"
      ]
    },
    {
      "cell_type": "code",
      "execution_count": null,
      "metadata": {
        "id": "5moA76TJ7vFp"
      },
      "outputs": [],
      "source": [
        "new = old.append(df)"
      ]
    },
    {
      "cell_type": "code",
      "execution_count": null,
      "metadata": {
        "id": "G6bZg4sm7vFp",
        "outputId": "addf8f84-4dfb-48c5-df6f-ad9f529f1239"
      },
      "outputs": [
        {
          "data": {
            "text/html": [
              "<div>\n",
              "<style scoped>\n",
              "    .dataframe tbody tr th:only-of-type {\n",
              "        vertical-align: middle;\n",
              "    }\n",
              "\n",
              "    .dataframe tbody tr th {\n",
              "        vertical-align: top;\n",
              "    }\n",
              "\n",
              "    .dataframe thead th {\n",
              "        text-align: right;\n",
              "    }\n",
              "</style>\n",
              "<table border=\"1\" class=\"dataframe\">\n",
              "  <thead>\n",
              "    <tr style=\"text-align: right;\">\n",
              "      <th></th>\n",
              "      <th>movie_title</th>\n",
              "      <th>director_name</th>\n",
              "      <th>actor_1_name</th>\n",
              "      <th>actor_2_name</th>\n",
              "      <th>actor_3_name</th>\n",
              "      <th>genres</th>\n",
              "      <th>comb</th>\n",
              "    </tr>\n",
              "  </thead>\n",
              "  <tbody>\n",
              "    <tr>\n",
              "      <th>0</th>\n",
              "      <td>pirates of the caribbean: dead men tell no tales</td>\n",
              "      <td>Joachim Rønning Espen Sandberg</td>\n",
              "      <td>Johnny Depp</td>\n",
              "      <td>Javier Bardem</td>\n",
              "      <td>Geoffrey Rush</td>\n",
              "      <td>Adventure Action Fantasy Comedy</td>\n",
              "      <td>Johnny Depp Javier Bardem Geoffrey Rush Joachi...</td>\n",
              "    </tr>\n",
              "    <tr>\n",
              "      <th>1</th>\n",
              "      <td>justice league</td>\n",
              "      <td>Zack Snyder</td>\n",
              "      <td>Ben Affleck</td>\n",
              "      <td>Henry Cavill</td>\n",
              "      <td>Gal Gadot</td>\n",
              "      <td>Action Adventure Fantasy Sci-Fi</td>\n",
              "      <td>Ben Affleck Henry Cavill Gal Gadot Zack Snyder...</td>\n",
              "    </tr>\n",
              "    <tr>\n",
              "      <th>2</th>\n",
              "      <td>thor: ragnarok</td>\n",
              "      <td>Taika Waititi</td>\n",
              "      <td>Chris Hemsworth</td>\n",
              "      <td>Tom Hiddleston</td>\n",
              "      <td>Cate Blanchett</td>\n",
              "      <td>Action Adventure Fantasy Sci-Fi</td>\n",
              "      <td>Chris Hemsworth Tom Hiddleston Cate Blanchett ...</td>\n",
              "    </tr>\n",
              "    <tr>\n",
              "      <th>3</th>\n",
              "      <td>guardians of the galaxy vol. 2</td>\n",
              "      <td>James Gunn</td>\n",
              "      <td>Chris Pratt</td>\n",
              "      <td>Zoe Saldana</td>\n",
              "      <td>Dave Bautista</td>\n",
              "      <td>Action Adventure Comedy Sci-Fi</td>\n",
              "      <td>Chris Pratt Zoe Saldana Dave Bautista James Gu...</td>\n",
              "    </tr>\n",
              "    <tr>\n",
              "      <th>4</th>\n",
              "      <td>the king's daughter</td>\n",
              "      <td>Sean McNamara</td>\n",
              "      <td>Pierce Brosnan</td>\n",
              "      <td>William Hurt</td>\n",
              "      <td>Benjamin Walker</td>\n",
              "      <td>Fantasy Action Adventure</td>\n",
              "      <td>Pierce Brosnan William Hurt Benjamin Walker Se...</td>\n",
              "    </tr>\n",
              "  </tbody>\n",
              "</table>\n",
              "</div>"
            ],
            "text/plain": [
              "                                        movie_title  \\\n",
              "0  pirates of the caribbean: dead men tell no tales   \n",
              "1                                    justice league   \n",
              "2                                    thor: ragnarok   \n",
              "3                    guardians of the galaxy vol. 2   \n",
              "4                               the king's daughter   \n",
              "\n",
              "                    director_name     actor_1_name    actor_2_name  \\\n",
              "0  Joachim Rønning Espen Sandberg      Johnny Depp   Javier Bardem   \n",
              "1                     Zack Snyder      Ben Affleck    Henry Cavill   \n",
              "2                   Taika Waititi  Chris Hemsworth  Tom Hiddleston   \n",
              "3                      James Gunn      Chris Pratt     Zoe Saldana   \n",
              "4                   Sean McNamara   Pierce Brosnan    William Hurt   \n",
              "\n",
              "      actor_3_name                           genres  \\\n",
              "0    Geoffrey Rush  Adventure Action Fantasy Comedy   \n",
              "1        Gal Gadot  Action Adventure Fantasy Sci-Fi   \n",
              "2   Cate Blanchett  Action Adventure Fantasy Sci-Fi   \n",
              "3    Dave Bautista   Action Adventure Comedy Sci-Fi   \n",
              "4  Benjamin Walker         Fantasy Action Adventure   \n",
              "\n",
              "                                                comb  \n",
              "0  Johnny Depp Javier Bardem Geoffrey Rush Joachi...  \n",
              "1  Ben Affleck Henry Cavill Gal Gadot Zack Snyder...  \n",
              "2  Chris Hemsworth Tom Hiddleston Cate Blanchett ...  \n",
              "3  Chris Pratt Zoe Saldana Dave Bautista James Gu...  \n",
              "4  Pierce Brosnan William Hurt Benjamin Walker Se...  "
            ]
          },
          "execution_count": 37,
          "metadata": {},
          "output_type": "execute_result"
        }
      ],
      "source": [
        "new.head()"
      ]
    },
    {
      "cell_type": "code",
      "execution_count": null,
      "metadata": {
        "id": "cNz2n9i47vFp",
        "outputId": "e927794d-80f3-4d49-f752-febfba56d5c5"
      },
      "outputs": [
        {
          "data": {
            "text/plain": [
              "(5860, 7)"
            ]
          },
          "execution_count": 38,
          "metadata": {},
          "output_type": "execute_result"
        }
      ],
      "source": [
        "new.shape"
      ]
    },
    {
      "cell_type": "code",
      "execution_count": null,
      "metadata": {
        "id": "7Tl7aGfC7vFp"
      },
      "outputs": [],
      "source": [
        "new.drop_duplicates(subset=['movie_title'], keep = 'last', inplace = True)"
      ]
    },
    {
      "cell_type": "code",
      "execution_count": null,
      "metadata": {
        "id": "KRUDFgmp7vFp",
        "outputId": "b56550cd-ae7b-4b7e-b6c6-ae6a09806482"
      },
      "outputs": [
        {
          "data": {
            "text/plain": [
              "(5844, 7)"
            ]
          },
          "execution_count": 40,
          "metadata": {},
          "output_type": "execute_result"
        }
      ],
      "source": [
        "new.shape"
      ]
    },
    {
      "cell_type": "code",
      "execution_count": null,
      "metadata": {
        "id": "acodNdcu7vFq"
      },
      "outputs": [],
      "source": [
        "new.to_csv('data2019.csv',index=False)"
      ]
    },
    {
      "cell_type": "code",
      "execution_count": null,
      "metadata": {
        "id": "pseUFjLw7vFq"
      },
      "outputs": [],
      "source": [
        ""
      ]
    }
  ],
  "metadata": {
    "kernelspec": {
      "display_name": "Python 3",
      "language": "python",
      "name": "python3"
    },
    "language_info": {
      "codemirror_mode": {
        "name": "ipython",
        "version": 3
      },
      "file_extension": ".py",
      "mimetype": "text/x-python",
      "name": "python",
      "nbconvert_exporter": "python",
      "pygments_lexer": "ipython3",
      "version": "3.8.5"
    },
    "colab": {
      "name": "preprocessing4.ipynb",
      "provenance": []
    }
  },
  "nbformat": 4,
  "nbformat_minor": 0
}